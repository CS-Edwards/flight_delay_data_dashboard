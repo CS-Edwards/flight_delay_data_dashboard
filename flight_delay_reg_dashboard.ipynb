{
  "cells": [
    {
      "cell_type": "markdown",
      "metadata": {
        "id": "view-in-github",
        "colab_type": "text"
      },
      "source": [
        "<a href=\"https://colab.research.google.com/github/CS-Edwards/flight_delay_data_dashboard/blob/main/flight_delay_reg_dashboard.ipynb\" target=\"_parent\"><img src=\"https://colab.research.google.com/assets/colab-badge.svg\" alt=\"Open In Colab\"/></a>"
      ]
    },
    {
      "cell_type": "markdown",
      "source": [
        "# Flight Delay Predictions\n",
        "## By: CS- Edwards\n",
        "This notebook uses public flight data sourced from BiqQuery, to explores Linear Regression and Decision Tree Regression, to predict flight arrival delays based on data.\n"
      ],
      "metadata": {
        "id": "gkwf9RRncNJg"
      }
    },
    {
      "cell_type": "code",
      "execution_count": null,
      "metadata": {
        "id": "j3jEOKl-cOF9"
      },
      "outputs": [],
      "source": [
        "import sys"
      ]
    },
    {
      "cell_type": "code",
      "execution_count": null,
      "metadata": {
        "id": "30_cS71gdIRa"
      },
      "outputs": [],
      "source": [
        "import plotly.graph_objects as go\n",
        "import pandas as pd\n",
        "import matplotlib.pyplot as plt\n",
        "from scipy import stats\n",
        "import seaborn as sns\n",
        "from sklearn.model_selection import train_test_split\n",
        "from sklearn import linear_model, tree, neighbors\n",
        "from sklearn.linear_model import LinearRegression\n",
        "import sklearn.metrics as sm\n",
        "import numpy as np\n",
        "\n"
      ]
    },
    {
      "cell_type": "markdown",
      "metadata": {
        "id": "unSRualZdjIS"
      },
      "source": [
        "**Load Data**\n",
        "\n",
        "Flight data from 2008-2010, originating from: \n",
        "<ul>\n",
        "<li> Hartsfield-Jackson International Airport `ATL` in Atlanta, GA \n",
        "<li> O'Hare International Airport `ORD` in Chicago, Il\n",
        "<li> John F. Kennedy International Airport `JFK` in Queens,  NY\n",
        "</ul> \n",
        "\n",
        "\n",
        "Data sourced from `bigquery-samples.airline_ontime_data.flights`.\n",
        "\n",
        "**SQL Query**\n",
        "```\n",
        "SELECT *\n",
        "FROM `bigquery-samples.airline_ontime_data.flights`\n",
        "WHERE (date BETWEEN '2008-1-1' AND '2010-12-31') AND (departure_airport='JFK' OR departure_airport='ORD' OR departure_airport='ATL')\n",
        "```"
      ]
    },
    {
      "cell_type": "code",
      "execution_count": null,
      "metadata": {
        "id": "1pnIT_64nppe"
      },
      "outputs": [],
      "source": [
        "data = pd.read_csv('/content/drive/MyDrive/bq-results-20221231-045257-1672462759393/bq-results-20221231-045257-1672462759393.csv')"
      ]
    },
    {
      "cell_type": "code",
      "execution_count": null,
      "metadata": {
        "colab": {
          "base_uri": "https://localhost:8080/",
          "height": 357
        },
        "id": "GuF63VLUn09T",
        "outputId": "e8e0ce31-5bba-4b3b-d6bc-b48b0f2eefe7"
      },
      "outputs": [
        {
          "output_type": "execute_result",
          "data": {
            "text/plain": [
              "         date airline  airline_code departure_airport departure_state  \\\n",
              "0  2008-10-17      AS         19930               ORD              IL   \n",
              "1  2010-03-25      AS         19930               ORD              IL   \n",
              "2  2010-07-28      AS         19930               ORD              IL   \n",
              "3  2010-07-26      AS         19930               ORD              IL   \n",
              "4  2010-08-02      AS         19930               ORD              IL   \n",
              "\n",
              "   departure_lat  departure_lon arrival_airport arrival_state  arrival_lat  \\\n",
              "0          41.98          -87.9             ANC            AK        61.17   \n",
              "1          41.98          -87.9             ANC            AK        61.17   \n",
              "2          41.98          -87.9             ANC            AK        61.17   \n",
              "3          41.98          -87.9             ANC            AK        61.17   \n",
              "4          41.98          -87.9             ANC            AK        61.17   \n",
              "\n",
              "   arrival_lon  departure_schedule  departure_actual  departure_delay  \\\n",
              "0      -149.99                1920              1925                5   \n",
              "1      -149.99                1810              1818                8   \n",
              "2      -149.99                1815              1812               -3   \n",
              "3      -149.99                1815              1801              -14   \n",
              "4      -149.99                 930               936                6   \n",
              "\n",
              "   arrival_schedule  arrival_actual  arrival_delay  \n",
              "0              2313            2337             24  \n",
              "1              2147            2155              8  \n",
              "2              2210            2200            -10  \n",
              "3              2210            2202             -8  \n",
              "4              1318            1317             -1  "
            ],
            "text/html": [
              "\n",
              "  <div id=\"df-1aa72d6c-2882-4ea0-a683-02cb867eeb11\">\n",
              "    <div class=\"colab-df-container\">\n",
              "      <div>\n",
              "<style scoped>\n",
              "    .dataframe tbody tr th:only-of-type {\n",
              "        vertical-align: middle;\n",
              "    }\n",
              "\n",
              "    .dataframe tbody tr th {\n",
              "        vertical-align: top;\n",
              "    }\n",
              "\n",
              "    .dataframe thead th {\n",
              "        text-align: right;\n",
              "    }\n",
              "</style>\n",
              "<table border=\"1\" class=\"dataframe\">\n",
              "  <thead>\n",
              "    <tr style=\"text-align: right;\">\n",
              "      <th></th>\n",
              "      <th>date</th>\n",
              "      <th>airline</th>\n",
              "      <th>airline_code</th>\n",
              "      <th>departure_airport</th>\n",
              "      <th>departure_state</th>\n",
              "      <th>departure_lat</th>\n",
              "      <th>departure_lon</th>\n",
              "      <th>arrival_airport</th>\n",
              "      <th>arrival_state</th>\n",
              "      <th>arrival_lat</th>\n",
              "      <th>arrival_lon</th>\n",
              "      <th>departure_schedule</th>\n",
              "      <th>departure_actual</th>\n",
              "      <th>departure_delay</th>\n",
              "      <th>arrival_schedule</th>\n",
              "      <th>arrival_actual</th>\n",
              "      <th>arrival_delay</th>\n",
              "    </tr>\n",
              "  </thead>\n",
              "  <tbody>\n",
              "    <tr>\n",
              "      <th>0</th>\n",
              "      <td>2008-10-17</td>\n",
              "      <td>AS</td>\n",
              "      <td>19930</td>\n",
              "      <td>ORD</td>\n",
              "      <td>IL</td>\n",
              "      <td>41.98</td>\n",
              "      <td>-87.9</td>\n",
              "      <td>ANC</td>\n",
              "      <td>AK</td>\n",
              "      <td>61.17</td>\n",
              "      <td>-149.99</td>\n",
              "      <td>1920</td>\n",
              "      <td>1925</td>\n",
              "      <td>5</td>\n",
              "      <td>2313</td>\n",
              "      <td>2337</td>\n",
              "      <td>24</td>\n",
              "    </tr>\n",
              "    <tr>\n",
              "      <th>1</th>\n",
              "      <td>2010-03-25</td>\n",
              "      <td>AS</td>\n",
              "      <td>19930</td>\n",
              "      <td>ORD</td>\n",
              "      <td>IL</td>\n",
              "      <td>41.98</td>\n",
              "      <td>-87.9</td>\n",
              "      <td>ANC</td>\n",
              "      <td>AK</td>\n",
              "      <td>61.17</td>\n",
              "      <td>-149.99</td>\n",
              "      <td>1810</td>\n",
              "      <td>1818</td>\n",
              "      <td>8</td>\n",
              "      <td>2147</td>\n",
              "      <td>2155</td>\n",
              "      <td>8</td>\n",
              "    </tr>\n",
              "    <tr>\n",
              "      <th>2</th>\n",
              "      <td>2010-07-28</td>\n",
              "      <td>AS</td>\n",
              "      <td>19930</td>\n",
              "      <td>ORD</td>\n",
              "      <td>IL</td>\n",
              "      <td>41.98</td>\n",
              "      <td>-87.9</td>\n",
              "      <td>ANC</td>\n",
              "      <td>AK</td>\n",
              "      <td>61.17</td>\n",
              "      <td>-149.99</td>\n",
              "      <td>1815</td>\n",
              "      <td>1812</td>\n",
              "      <td>-3</td>\n",
              "      <td>2210</td>\n",
              "      <td>2200</td>\n",
              "      <td>-10</td>\n",
              "    </tr>\n",
              "    <tr>\n",
              "      <th>3</th>\n",
              "      <td>2010-07-26</td>\n",
              "      <td>AS</td>\n",
              "      <td>19930</td>\n",
              "      <td>ORD</td>\n",
              "      <td>IL</td>\n",
              "      <td>41.98</td>\n",
              "      <td>-87.9</td>\n",
              "      <td>ANC</td>\n",
              "      <td>AK</td>\n",
              "      <td>61.17</td>\n",
              "      <td>-149.99</td>\n",
              "      <td>1815</td>\n",
              "      <td>1801</td>\n",
              "      <td>-14</td>\n",
              "      <td>2210</td>\n",
              "      <td>2202</td>\n",
              "      <td>-8</td>\n",
              "    </tr>\n",
              "    <tr>\n",
              "      <th>4</th>\n",
              "      <td>2010-08-02</td>\n",
              "      <td>AS</td>\n",
              "      <td>19930</td>\n",
              "      <td>ORD</td>\n",
              "      <td>IL</td>\n",
              "      <td>41.98</td>\n",
              "      <td>-87.9</td>\n",
              "      <td>ANC</td>\n",
              "      <td>AK</td>\n",
              "      <td>61.17</td>\n",
              "      <td>-149.99</td>\n",
              "      <td>930</td>\n",
              "      <td>936</td>\n",
              "      <td>6</td>\n",
              "      <td>1318</td>\n",
              "      <td>1317</td>\n",
              "      <td>-1</td>\n",
              "    </tr>\n",
              "  </tbody>\n",
              "</table>\n",
              "</div>\n",
              "      <button class=\"colab-df-convert\" onclick=\"convertToInteractive('df-1aa72d6c-2882-4ea0-a683-02cb867eeb11')\"\n",
              "              title=\"Convert this dataframe to an interactive table.\"\n",
              "              style=\"display:none;\">\n",
              "        \n",
              "  <svg xmlns=\"http://www.w3.org/2000/svg\" height=\"24px\"viewBox=\"0 0 24 24\"\n",
              "       width=\"24px\">\n",
              "    <path d=\"M0 0h24v24H0V0z\" fill=\"none\"/>\n",
              "    <path d=\"M18.56 5.44l.94 2.06.94-2.06 2.06-.94-2.06-.94-.94-2.06-.94 2.06-2.06.94zm-11 1L8.5 8.5l.94-2.06 2.06-.94-2.06-.94L8.5 2.5l-.94 2.06-2.06.94zm10 10l.94 2.06.94-2.06 2.06-.94-2.06-.94-.94-2.06-.94 2.06-2.06.94z\"/><path d=\"M17.41 7.96l-1.37-1.37c-.4-.4-.92-.59-1.43-.59-.52 0-1.04.2-1.43.59L10.3 9.45l-7.72 7.72c-.78.78-.78 2.05 0 2.83L4 21.41c.39.39.9.59 1.41.59.51 0 1.02-.2 1.41-.59l7.78-7.78 2.81-2.81c.8-.78.8-2.07 0-2.86zM5.41 20L4 18.59l7.72-7.72 1.47 1.35L5.41 20z\"/>\n",
              "  </svg>\n",
              "      </button>\n",
              "      \n",
              "  <style>\n",
              "    .colab-df-container {\n",
              "      display:flex;\n",
              "      flex-wrap:wrap;\n",
              "      gap: 12px;\n",
              "    }\n",
              "\n",
              "    .colab-df-convert {\n",
              "      background-color: #E8F0FE;\n",
              "      border: none;\n",
              "      border-radius: 50%;\n",
              "      cursor: pointer;\n",
              "      display: none;\n",
              "      fill: #1967D2;\n",
              "      height: 32px;\n",
              "      padding: 0 0 0 0;\n",
              "      width: 32px;\n",
              "    }\n",
              "\n",
              "    .colab-df-convert:hover {\n",
              "      background-color: #E2EBFA;\n",
              "      box-shadow: 0px 1px 2px rgba(60, 64, 67, 0.3), 0px 1px 3px 1px rgba(60, 64, 67, 0.15);\n",
              "      fill: #174EA6;\n",
              "    }\n",
              "\n",
              "    [theme=dark] .colab-df-convert {\n",
              "      background-color: #3B4455;\n",
              "      fill: #D2E3FC;\n",
              "    }\n",
              "\n",
              "    [theme=dark] .colab-df-convert:hover {\n",
              "      background-color: #434B5C;\n",
              "      box-shadow: 0px 1px 3px 1px rgba(0, 0, 0, 0.15);\n",
              "      filter: drop-shadow(0px 1px 2px rgba(0, 0, 0, 0.3));\n",
              "      fill: #FFFFFF;\n",
              "    }\n",
              "  </style>\n",
              "\n",
              "      <script>\n",
              "        const buttonEl =\n",
              "          document.querySelector('#df-1aa72d6c-2882-4ea0-a683-02cb867eeb11 button.colab-df-convert');\n",
              "        buttonEl.style.display =\n",
              "          google.colab.kernel.accessAllowed ? 'block' : 'none';\n",
              "\n",
              "        async function convertToInteractive(key) {\n",
              "          const element = document.querySelector('#df-1aa72d6c-2882-4ea0-a683-02cb867eeb11');\n",
              "          const dataTable =\n",
              "            await google.colab.kernel.invokeFunction('convertToInteractive',\n",
              "                                                     [key], {});\n",
              "          if (!dataTable) return;\n",
              "\n",
              "          const docLinkHtml = 'Like what you see? Visit the ' +\n",
              "            '<a target=\"_blank\" href=https://colab.research.google.com/notebooks/data_table.ipynb>data table notebook</a>'\n",
              "            + ' to learn more about interactive tables.';\n",
              "          element.innerHTML = '';\n",
              "          dataTable['output_type'] = 'display_data';\n",
              "          await google.colab.output.renderOutput(dataTable, element);\n",
              "          const docLink = document.createElement('div');\n",
              "          docLink.innerHTML = docLinkHtml;\n",
              "          element.appendChild(docLink);\n",
              "        }\n",
              "      </script>\n",
              "    </div>\n",
              "  </div>\n",
              "  "
            ]
          },
          "metadata": {},
          "execution_count": 6
        }
      ],
      "source": [
        "data.head()"
      ]
    },
    {
      "cell_type": "code",
      "execution_count": null,
      "metadata": {
        "colab": {
          "base_uri": "https://localhost:8080/",
          "height": 357
        },
        "id": "gr4S7smZohUG",
        "outputId": "9282cb5d-3874-4913-b9f3-07ce42a77e78"
      },
      "outputs": [
        {
          "output_type": "execute_result",
          "data": {
            "text/plain": [
              "         date airline  airline_code departure_airport departure_state  \\\n",
              "0  2008-10-17      AS         19930               ORD              IL   \n",
              "1  2010-03-25      AS         19930               ORD              IL   \n",
              "2  2010-07-28      AS         19930               ORD              IL   \n",
              "3  2010-07-26      AS         19930               ORD              IL   \n",
              "4  2010-08-02      AS         19930               ORD              IL   \n",
              "\n",
              "   departure_lat  departure_lon arrival_airport arrival_state  arrival_lat  \\\n",
              "0          41.98          -87.9             ANC            AK        61.17   \n",
              "1          41.98          -87.9             ANC            AK        61.17   \n",
              "2          41.98          -87.9             ANC            AK        61.17   \n",
              "3          41.98          -87.9             ANC            AK        61.17   \n",
              "4          41.98          -87.9             ANC            AK        61.17   \n",
              "\n",
              "   arrival_lon  departure_schedule  departure_actual  departure_delay  \\\n",
              "0      -149.99                1920              1925                5   \n",
              "1      -149.99                1810              1818                8   \n",
              "2      -149.99                1815              1812               -3   \n",
              "3      -149.99                1815              1801              -14   \n",
              "4      -149.99                 930               936                6   \n",
              "\n",
              "   arrival_schedule  arrival_actual  arrival_delay  \n",
              "0              2313            2337             24  \n",
              "1              2147            2155              8  \n",
              "2              2210            2200            -10  \n",
              "3              2210            2202             -8  \n",
              "4              1318            1317             -1  "
            ],
            "text/html": [
              "\n",
              "  <div id=\"df-f9ee1101-9275-4bca-aa59-31b5cefcc0e1\">\n",
              "    <div class=\"colab-df-container\">\n",
              "      <div>\n",
              "<style scoped>\n",
              "    .dataframe tbody tr th:only-of-type {\n",
              "        vertical-align: middle;\n",
              "    }\n",
              "\n",
              "    .dataframe tbody tr th {\n",
              "        vertical-align: top;\n",
              "    }\n",
              "\n",
              "    .dataframe thead th {\n",
              "        text-align: right;\n",
              "    }\n",
              "</style>\n",
              "<table border=\"1\" class=\"dataframe\">\n",
              "  <thead>\n",
              "    <tr style=\"text-align: right;\">\n",
              "      <th></th>\n",
              "      <th>date</th>\n",
              "      <th>airline</th>\n",
              "      <th>airline_code</th>\n",
              "      <th>departure_airport</th>\n",
              "      <th>departure_state</th>\n",
              "      <th>departure_lat</th>\n",
              "      <th>departure_lon</th>\n",
              "      <th>arrival_airport</th>\n",
              "      <th>arrival_state</th>\n",
              "      <th>arrival_lat</th>\n",
              "      <th>arrival_lon</th>\n",
              "      <th>departure_schedule</th>\n",
              "      <th>departure_actual</th>\n",
              "      <th>departure_delay</th>\n",
              "      <th>arrival_schedule</th>\n",
              "      <th>arrival_actual</th>\n",
              "      <th>arrival_delay</th>\n",
              "    </tr>\n",
              "  </thead>\n",
              "  <tbody>\n",
              "    <tr>\n",
              "      <th>0</th>\n",
              "      <td>2008-10-17</td>\n",
              "      <td>AS</td>\n",
              "      <td>19930</td>\n",
              "      <td>ORD</td>\n",
              "      <td>IL</td>\n",
              "      <td>41.98</td>\n",
              "      <td>-87.9</td>\n",
              "      <td>ANC</td>\n",
              "      <td>AK</td>\n",
              "      <td>61.17</td>\n",
              "      <td>-149.99</td>\n",
              "      <td>1920</td>\n",
              "      <td>1925</td>\n",
              "      <td>5</td>\n",
              "      <td>2313</td>\n",
              "      <td>2337</td>\n",
              "      <td>24</td>\n",
              "    </tr>\n",
              "    <tr>\n",
              "      <th>1</th>\n",
              "      <td>2010-03-25</td>\n",
              "      <td>AS</td>\n",
              "      <td>19930</td>\n",
              "      <td>ORD</td>\n",
              "      <td>IL</td>\n",
              "      <td>41.98</td>\n",
              "      <td>-87.9</td>\n",
              "      <td>ANC</td>\n",
              "      <td>AK</td>\n",
              "      <td>61.17</td>\n",
              "      <td>-149.99</td>\n",
              "      <td>1810</td>\n",
              "      <td>1818</td>\n",
              "      <td>8</td>\n",
              "      <td>2147</td>\n",
              "      <td>2155</td>\n",
              "      <td>8</td>\n",
              "    </tr>\n",
              "    <tr>\n",
              "      <th>2</th>\n",
              "      <td>2010-07-28</td>\n",
              "      <td>AS</td>\n",
              "      <td>19930</td>\n",
              "      <td>ORD</td>\n",
              "      <td>IL</td>\n",
              "      <td>41.98</td>\n",
              "      <td>-87.9</td>\n",
              "      <td>ANC</td>\n",
              "      <td>AK</td>\n",
              "      <td>61.17</td>\n",
              "      <td>-149.99</td>\n",
              "      <td>1815</td>\n",
              "      <td>1812</td>\n",
              "      <td>-3</td>\n",
              "      <td>2210</td>\n",
              "      <td>2200</td>\n",
              "      <td>-10</td>\n",
              "    </tr>\n",
              "    <tr>\n",
              "      <th>3</th>\n",
              "      <td>2010-07-26</td>\n",
              "      <td>AS</td>\n",
              "      <td>19930</td>\n",
              "      <td>ORD</td>\n",
              "      <td>IL</td>\n",
              "      <td>41.98</td>\n",
              "      <td>-87.9</td>\n",
              "      <td>ANC</td>\n",
              "      <td>AK</td>\n",
              "      <td>61.17</td>\n",
              "      <td>-149.99</td>\n",
              "      <td>1815</td>\n",
              "      <td>1801</td>\n",
              "      <td>-14</td>\n",
              "      <td>2210</td>\n",
              "      <td>2202</td>\n",
              "      <td>-8</td>\n",
              "    </tr>\n",
              "    <tr>\n",
              "      <th>4</th>\n",
              "      <td>2010-08-02</td>\n",
              "      <td>AS</td>\n",
              "      <td>19930</td>\n",
              "      <td>ORD</td>\n",
              "      <td>IL</td>\n",
              "      <td>41.98</td>\n",
              "      <td>-87.9</td>\n",
              "      <td>ANC</td>\n",
              "      <td>AK</td>\n",
              "      <td>61.17</td>\n",
              "      <td>-149.99</td>\n",
              "      <td>930</td>\n",
              "      <td>936</td>\n",
              "      <td>6</td>\n",
              "      <td>1318</td>\n",
              "      <td>1317</td>\n",
              "      <td>-1</td>\n",
              "    </tr>\n",
              "  </tbody>\n",
              "</table>\n",
              "</div>\n",
              "      <button class=\"colab-df-convert\" onclick=\"convertToInteractive('df-f9ee1101-9275-4bca-aa59-31b5cefcc0e1')\"\n",
              "              title=\"Convert this dataframe to an interactive table.\"\n",
              "              style=\"display:none;\">\n",
              "        \n",
              "  <svg xmlns=\"http://www.w3.org/2000/svg\" height=\"24px\"viewBox=\"0 0 24 24\"\n",
              "       width=\"24px\">\n",
              "    <path d=\"M0 0h24v24H0V0z\" fill=\"none\"/>\n",
              "    <path d=\"M18.56 5.44l.94 2.06.94-2.06 2.06-.94-2.06-.94-.94-2.06-.94 2.06-2.06.94zm-11 1L8.5 8.5l.94-2.06 2.06-.94-2.06-.94L8.5 2.5l-.94 2.06-2.06.94zm10 10l.94 2.06.94-2.06 2.06-.94-2.06-.94-.94-2.06-.94 2.06-2.06.94z\"/><path d=\"M17.41 7.96l-1.37-1.37c-.4-.4-.92-.59-1.43-.59-.52 0-1.04.2-1.43.59L10.3 9.45l-7.72 7.72c-.78.78-.78 2.05 0 2.83L4 21.41c.39.39.9.59 1.41.59.51 0 1.02-.2 1.41-.59l7.78-7.78 2.81-2.81c.8-.78.8-2.07 0-2.86zM5.41 20L4 18.59l7.72-7.72 1.47 1.35L5.41 20z\"/>\n",
              "  </svg>\n",
              "      </button>\n",
              "      \n",
              "  <style>\n",
              "    .colab-df-container {\n",
              "      display:flex;\n",
              "      flex-wrap:wrap;\n",
              "      gap: 12px;\n",
              "    }\n",
              "\n",
              "    .colab-df-convert {\n",
              "      background-color: #E8F0FE;\n",
              "      border: none;\n",
              "      border-radius: 50%;\n",
              "      cursor: pointer;\n",
              "      display: none;\n",
              "      fill: #1967D2;\n",
              "      height: 32px;\n",
              "      padding: 0 0 0 0;\n",
              "      width: 32px;\n",
              "    }\n",
              "\n",
              "    .colab-df-convert:hover {\n",
              "      background-color: #E2EBFA;\n",
              "      box-shadow: 0px 1px 2px rgba(60, 64, 67, 0.3), 0px 1px 3px 1px rgba(60, 64, 67, 0.15);\n",
              "      fill: #174EA6;\n",
              "    }\n",
              "\n",
              "    [theme=dark] .colab-df-convert {\n",
              "      background-color: #3B4455;\n",
              "      fill: #D2E3FC;\n",
              "    }\n",
              "\n",
              "    [theme=dark] .colab-df-convert:hover {\n",
              "      background-color: #434B5C;\n",
              "      box-shadow: 0px 1px 3px 1px rgba(0, 0, 0, 0.15);\n",
              "      filter: drop-shadow(0px 1px 2px rgba(0, 0, 0, 0.3));\n",
              "      fill: #FFFFFF;\n",
              "    }\n",
              "  </style>\n",
              "\n",
              "      <script>\n",
              "        const buttonEl =\n",
              "          document.querySelector('#df-f9ee1101-9275-4bca-aa59-31b5cefcc0e1 button.colab-df-convert');\n",
              "        buttonEl.style.display =\n",
              "          google.colab.kernel.accessAllowed ? 'block' : 'none';\n",
              "\n",
              "        async function convertToInteractive(key) {\n",
              "          const element = document.querySelector('#df-f9ee1101-9275-4bca-aa59-31b5cefcc0e1');\n",
              "          const dataTable =\n",
              "            await google.colab.kernel.invokeFunction('convertToInteractive',\n",
              "                                                     [key], {});\n",
              "          if (!dataTable) return;\n",
              "\n",
              "          const docLinkHtml = 'Like what you see? Visit the ' +\n",
              "            '<a target=\"_blank\" href=https://colab.research.google.com/notebooks/data_table.ipynb>data table notebook</a>'\n",
              "            + ' to learn more about interactive tables.';\n",
              "          element.innerHTML = '';\n",
              "          dataTable['output_type'] = 'display_data';\n",
              "          await google.colab.output.renderOutput(dataTable, element);\n",
              "          const docLink = document.createElement('div');\n",
              "          docLink.innerHTML = docLinkHtml;\n",
              "          element.appendChild(docLink);\n",
              "        }\n",
              "      </script>\n",
              "    </div>\n",
              "  </div>\n",
              "  "
            ]
          },
          "metadata": {},
          "execution_count": 7
        }
      ],
      "source": [
        "data.groupby(['departure_airport','airline'])\n",
        "data.head()"
      ]
    },
    {
      "cell_type": "code",
      "execution_count": null,
      "metadata": {
        "id": "mRV95yt4qz8S"
      },
      "outputs": [],
      "source": [
        "month_map={\n",
        "    \"01\":\"January\",\n",
        "    \"02\": \"February\",\n",
        "    \"03\":\"March\",\n",
        "    \"04\": \"April\",\n",
        "    \"05\":\"May\",\n",
        "    \"06\":\"June\",\n",
        "    \"07\": \"July\",\n",
        "    \"08\": \"August\",\n",
        "    \"09\":\"September\",\n",
        "    \"10\":\"October\",\n",
        "    \"11\":\"November\",\n",
        "    \"12\":\"December\"\n",
        "}"
      ]
    },
    {
      "cell_type": "code",
      "execution_count": null,
      "metadata": {
        "colab": {
          "base_uri": "https://localhost:8080/",
          "height": 35
        },
        "id": "2X3c9OdMsVRw",
        "outputId": "abad7ea7-92cd-4212-804d-b4377f6bc9aa"
      },
      "outputs": [
        {
          "output_type": "execute_result",
          "data": {
            "text/plain": [
              "'January'"
            ],
            "application/vnd.google.colaboratory.intrinsic+json": {
              "type": "string"
            }
          },
          "metadata": {},
          "execution_count": 9
        }
      ],
      "source": [
        "month_map.get('01')\n"
      ]
    },
    {
      "cell_type": "code",
      "execution_count": null,
      "metadata": {
        "id": "-285ENoQ0Cbc"
      },
      "outputs": [],
      "source": [
        "def month_m(date):\n",
        "  return month_map.get(date)"
      ]
    },
    {
      "cell_type": "code",
      "execution_count": null,
      "metadata": {
        "id": "2l2WtmZ4w19r"
      },
      "outputs": [],
      "source": [
        "data['month_num']  = data['date'].str.slice(start=5,stop=7)"
      ]
    },
    {
      "cell_type": "code",
      "execution_count": null,
      "metadata": {
        "id": "BSMKffzsz3j3"
      },
      "outputs": [],
      "source": [
        "data['month_label'] = data['month_num'].map(month_m)"
      ]
    },
    {
      "cell_type": "code",
      "execution_count": null,
      "metadata": {
        "colab": {
          "base_uri": "https://localhost:8080/",
          "height": 357
        },
        "id": "IlrYGHjBpkAR",
        "outputId": "0c381929-ed51-4783-babe-6a70d700c25e"
      },
      "outputs": [
        {
          "output_type": "execute_result",
          "data": {
            "text/plain": [
              "         date airline  airline_code departure_airport departure_state  \\\n",
              "0  2008-10-17      AS         19930               ORD              IL   \n",
              "1  2010-03-25      AS         19930               ORD              IL   \n",
              "2  2010-07-28      AS         19930               ORD              IL   \n",
              "3  2010-07-26      AS         19930               ORD              IL   \n",
              "4  2010-08-02      AS         19930               ORD              IL   \n",
              "\n",
              "   departure_lat  departure_lon arrival_airport arrival_state  arrival_lat  \\\n",
              "0          41.98          -87.9             ANC            AK        61.17   \n",
              "1          41.98          -87.9             ANC            AK        61.17   \n",
              "2          41.98          -87.9             ANC            AK        61.17   \n",
              "3          41.98          -87.9             ANC            AK        61.17   \n",
              "4          41.98          -87.9             ANC            AK        61.17   \n",
              "\n",
              "   arrival_lon  departure_schedule  departure_actual  departure_delay  \\\n",
              "0      -149.99                1920              1925                5   \n",
              "1      -149.99                1810              1818                8   \n",
              "2      -149.99                1815              1812               -3   \n",
              "3      -149.99                1815              1801              -14   \n",
              "4      -149.99                 930               936                6   \n",
              "\n",
              "   arrival_schedule  arrival_actual  arrival_delay month_num month_label  year  \n",
              "0              2313            2337             24        10     October  2008  \n",
              "1              2147            2155              8        03       March  2010  \n",
              "2              2210            2200            -10        07        July  2010  \n",
              "3              2210            2202             -8        07        July  2010  \n",
              "4              1318            1317             -1        08      August  2010  "
            ],
            "text/html": [
              "\n",
              "  <div id=\"df-166d1d86-3655-4770-8833-874347e8479d\">\n",
              "    <div class=\"colab-df-container\">\n",
              "      <div>\n",
              "<style scoped>\n",
              "    .dataframe tbody tr th:only-of-type {\n",
              "        vertical-align: middle;\n",
              "    }\n",
              "\n",
              "    .dataframe tbody tr th {\n",
              "        vertical-align: top;\n",
              "    }\n",
              "\n",
              "    .dataframe thead th {\n",
              "        text-align: right;\n",
              "    }\n",
              "</style>\n",
              "<table border=\"1\" class=\"dataframe\">\n",
              "  <thead>\n",
              "    <tr style=\"text-align: right;\">\n",
              "      <th></th>\n",
              "      <th>date</th>\n",
              "      <th>airline</th>\n",
              "      <th>airline_code</th>\n",
              "      <th>departure_airport</th>\n",
              "      <th>departure_state</th>\n",
              "      <th>departure_lat</th>\n",
              "      <th>departure_lon</th>\n",
              "      <th>arrival_airport</th>\n",
              "      <th>arrival_state</th>\n",
              "      <th>arrival_lat</th>\n",
              "      <th>arrival_lon</th>\n",
              "      <th>departure_schedule</th>\n",
              "      <th>departure_actual</th>\n",
              "      <th>departure_delay</th>\n",
              "      <th>arrival_schedule</th>\n",
              "      <th>arrival_actual</th>\n",
              "      <th>arrival_delay</th>\n",
              "      <th>month_num</th>\n",
              "      <th>month_label</th>\n",
              "      <th>year</th>\n",
              "    </tr>\n",
              "  </thead>\n",
              "  <tbody>\n",
              "    <tr>\n",
              "      <th>0</th>\n",
              "      <td>2008-10-17</td>\n",
              "      <td>AS</td>\n",
              "      <td>19930</td>\n",
              "      <td>ORD</td>\n",
              "      <td>IL</td>\n",
              "      <td>41.98</td>\n",
              "      <td>-87.9</td>\n",
              "      <td>ANC</td>\n",
              "      <td>AK</td>\n",
              "      <td>61.17</td>\n",
              "      <td>-149.99</td>\n",
              "      <td>1920</td>\n",
              "      <td>1925</td>\n",
              "      <td>5</td>\n",
              "      <td>2313</td>\n",
              "      <td>2337</td>\n",
              "      <td>24</td>\n",
              "      <td>10</td>\n",
              "      <td>October</td>\n",
              "      <td>2008</td>\n",
              "    </tr>\n",
              "    <tr>\n",
              "      <th>1</th>\n",
              "      <td>2010-03-25</td>\n",
              "      <td>AS</td>\n",
              "      <td>19930</td>\n",
              "      <td>ORD</td>\n",
              "      <td>IL</td>\n",
              "      <td>41.98</td>\n",
              "      <td>-87.9</td>\n",
              "      <td>ANC</td>\n",
              "      <td>AK</td>\n",
              "      <td>61.17</td>\n",
              "      <td>-149.99</td>\n",
              "      <td>1810</td>\n",
              "      <td>1818</td>\n",
              "      <td>8</td>\n",
              "      <td>2147</td>\n",
              "      <td>2155</td>\n",
              "      <td>8</td>\n",
              "      <td>03</td>\n",
              "      <td>March</td>\n",
              "      <td>2010</td>\n",
              "    </tr>\n",
              "    <tr>\n",
              "      <th>2</th>\n",
              "      <td>2010-07-28</td>\n",
              "      <td>AS</td>\n",
              "      <td>19930</td>\n",
              "      <td>ORD</td>\n",
              "      <td>IL</td>\n",
              "      <td>41.98</td>\n",
              "      <td>-87.9</td>\n",
              "      <td>ANC</td>\n",
              "      <td>AK</td>\n",
              "      <td>61.17</td>\n",
              "      <td>-149.99</td>\n",
              "      <td>1815</td>\n",
              "      <td>1812</td>\n",
              "      <td>-3</td>\n",
              "      <td>2210</td>\n",
              "      <td>2200</td>\n",
              "      <td>-10</td>\n",
              "      <td>07</td>\n",
              "      <td>July</td>\n",
              "      <td>2010</td>\n",
              "    </tr>\n",
              "    <tr>\n",
              "      <th>3</th>\n",
              "      <td>2010-07-26</td>\n",
              "      <td>AS</td>\n",
              "      <td>19930</td>\n",
              "      <td>ORD</td>\n",
              "      <td>IL</td>\n",
              "      <td>41.98</td>\n",
              "      <td>-87.9</td>\n",
              "      <td>ANC</td>\n",
              "      <td>AK</td>\n",
              "      <td>61.17</td>\n",
              "      <td>-149.99</td>\n",
              "      <td>1815</td>\n",
              "      <td>1801</td>\n",
              "      <td>-14</td>\n",
              "      <td>2210</td>\n",
              "      <td>2202</td>\n",
              "      <td>-8</td>\n",
              "      <td>07</td>\n",
              "      <td>July</td>\n",
              "      <td>2010</td>\n",
              "    </tr>\n",
              "    <tr>\n",
              "      <th>4</th>\n",
              "      <td>2010-08-02</td>\n",
              "      <td>AS</td>\n",
              "      <td>19930</td>\n",
              "      <td>ORD</td>\n",
              "      <td>IL</td>\n",
              "      <td>41.98</td>\n",
              "      <td>-87.9</td>\n",
              "      <td>ANC</td>\n",
              "      <td>AK</td>\n",
              "      <td>61.17</td>\n",
              "      <td>-149.99</td>\n",
              "      <td>930</td>\n",
              "      <td>936</td>\n",
              "      <td>6</td>\n",
              "      <td>1318</td>\n",
              "      <td>1317</td>\n",
              "      <td>-1</td>\n",
              "      <td>08</td>\n",
              "      <td>August</td>\n",
              "      <td>2010</td>\n",
              "    </tr>\n",
              "  </tbody>\n",
              "</table>\n",
              "</div>\n",
              "      <button class=\"colab-df-convert\" onclick=\"convertToInteractive('df-166d1d86-3655-4770-8833-874347e8479d')\"\n",
              "              title=\"Convert this dataframe to an interactive table.\"\n",
              "              style=\"display:none;\">\n",
              "        \n",
              "  <svg xmlns=\"http://www.w3.org/2000/svg\" height=\"24px\"viewBox=\"0 0 24 24\"\n",
              "       width=\"24px\">\n",
              "    <path d=\"M0 0h24v24H0V0z\" fill=\"none\"/>\n",
              "    <path d=\"M18.56 5.44l.94 2.06.94-2.06 2.06-.94-2.06-.94-.94-2.06-.94 2.06-2.06.94zm-11 1L8.5 8.5l.94-2.06 2.06-.94-2.06-.94L8.5 2.5l-.94 2.06-2.06.94zm10 10l.94 2.06.94-2.06 2.06-.94-2.06-.94-.94-2.06-.94 2.06-2.06.94z\"/><path d=\"M17.41 7.96l-1.37-1.37c-.4-.4-.92-.59-1.43-.59-.52 0-1.04.2-1.43.59L10.3 9.45l-7.72 7.72c-.78.78-.78 2.05 0 2.83L4 21.41c.39.39.9.59 1.41.59.51 0 1.02-.2 1.41-.59l7.78-7.78 2.81-2.81c.8-.78.8-2.07 0-2.86zM5.41 20L4 18.59l7.72-7.72 1.47 1.35L5.41 20z\"/>\n",
              "  </svg>\n",
              "      </button>\n",
              "      \n",
              "  <style>\n",
              "    .colab-df-container {\n",
              "      display:flex;\n",
              "      flex-wrap:wrap;\n",
              "      gap: 12px;\n",
              "    }\n",
              "\n",
              "    .colab-df-convert {\n",
              "      background-color: #E8F0FE;\n",
              "      border: none;\n",
              "      border-radius: 50%;\n",
              "      cursor: pointer;\n",
              "      display: none;\n",
              "      fill: #1967D2;\n",
              "      height: 32px;\n",
              "      padding: 0 0 0 0;\n",
              "      width: 32px;\n",
              "    }\n",
              "\n",
              "    .colab-df-convert:hover {\n",
              "      background-color: #E2EBFA;\n",
              "      box-shadow: 0px 1px 2px rgba(60, 64, 67, 0.3), 0px 1px 3px 1px rgba(60, 64, 67, 0.15);\n",
              "      fill: #174EA6;\n",
              "    }\n",
              "\n",
              "    [theme=dark] .colab-df-convert {\n",
              "      background-color: #3B4455;\n",
              "      fill: #D2E3FC;\n",
              "    }\n",
              "\n",
              "    [theme=dark] .colab-df-convert:hover {\n",
              "      background-color: #434B5C;\n",
              "      box-shadow: 0px 1px 3px 1px rgba(0, 0, 0, 0.15);\n",
              "      filter: drop-shadow(0px 1px 2px rgba(0, 0, 0, 0.3));\n",
              "      fill: #FFFFFF;\n",
              "    }\n",
              "  </style>\n",
              "\n",
              "      <script>\n",
              "        const buttonEl =\n",
              "          document.querySelector('#df-166d1d86-3655-4770-8833-874347e8479d button.colab-df-convert');\n",
              "        buttonEl.style.display =\n",
              "          google.colab.kernel.accessAllowed ? 'block' : 'none';\n",
              "\n",
              "        async function convertToInteractive(key) {\n",
              "          const element = document.querySelector('#df-166d1d86-3655-4770-8833-874347e8479d');\n",
              "          const dataTable =\n",
              "            await google.colab.kernel.invokeFunction('convertToInteractive',\n",
              "                                                     [key], {});\n",
              "          if (!dataTable) return;\n",
              "\n",
              "          const docLinkHtml = 'Like what you see? Visit the ' +\n",
              "            '<a target=\"_blank\" href=https://colab.research.google.com/notebooks/data_table.ipynb>data table notebook</a>'\n",
              "            + ' to learn more about interactive tables.';\n",
              "          element.innerHTML = '';\n",
              "          dataTable['output_type'] = 'display_data';\n",
              "          await google.colab.output.renderOutput(dataTable, element);\n",
              "          const docLink = document.createElement('div');\n",
              "          docLink.innerHTML = docLinkHtml;\n",
              "          element.appendChild(docLink);\n",
              "        }\n",
              "      </script>\n",
              "    </div>\n",
              "  </div>\n",
              "  "
            ]
          },
          "metadata": {},
          "execution_count": 13
        }
      ],
      "source": [
        "data['year'] = data['date'].str.slice(stop=4)\n",
        "data.head()"
      ]
    },
    {
      "cell_type": "code",
      "execution_count": null,
      "metadata": {
        "colab": {
          "base_uri": "https://localhost:8080/"
        },
        "id": "KOgm0tK8y2TK",
        "outputId": "c5ac9cb2-1751-4cc2-e622-4a5bae66c36a"
      },
      "outputs": [
        {
          "output_type": "stream",
          "name": "stdout",
          "text": [
            "<class 'pandas.core.frame.DataFrame'>\n",
            "RangeIndex: 1857019 entries, 0 to 1857018\n",
            "Data columns (total 20 columns):\n",
            " #   Column              Dtype  \n",
            "---  ------              -----  \n",
            " 0   date                object \n",
            " 1   airline             object \n",
            " 2   airline_code        int64  \n",
            " 3   departure_airport   object \n",
            " 4   departure_state     object \n",
            " 5   departure_lat       float64\n",
            " 6   departure_lon       float64\n",
            " 7   arrival_airport     object \n",
            " 8   arrival_state       object \n",
            " 9   arrival_lat         float64\n",
            " 10  arrival_lon         float64\n",
            " 11  departure_schedule  int64  \n",
            " 12  departure_actual    int64  \n",
            " 13  departure_delay     int64  \n",
            " 14  arrival_schedule    int64  \n",
            " 15  arrival_actual      int64  \n",
            " 16  arrival_delay       int64  \n",
            " 17  month_num           object \n",
            " 18  month_label         object \n",
            " 19  year                object \n",
            "dtypes: float64(4), int64(7), object(9)\n",
            "memory usage: 283.4+ MB\n"
          ]
        }
      ],
      "source": [
        "data.info()"
      ]
    },
    {
      "cell_type": "markdown",
      "metadata": {
        "id": "qseIQtsVAnIm"
      },
      "source": [
        "Exploratory Analysis"
      ]
    },
    {
      "cell_type": "code",
      "execution_count": null,
      "metadata": {
        "colab": {
          "base_uri": "https://localhost:8080/"
        },
        "id": "7RLE2ZwiAl3d",
        "outputId": "e998384c-d572-4385-95b9-769f2182db70"
      },
      "outputs": [
        {
          "output_type": "stream",
          "name": "stdout",
          "text": [
            "Departure Delay\n",
            "Min:  -60\n",
            "Max:  1331\n",
            "Mean:  10.659704612607625\n",
            "S.Dev:  33.69184654146598\n",
            "Median:  -1.0\n"
          ]
        }
      ],
      "source": [
        "print('Departure Delay')\n",
        "print('Min: ' , data['departure_delay'].min())\n",
        "print('Max: ' , data['departure_delay'].max())\n",
        "print('Mean: ' , data['departure_delay'].mean())\n",
        "print('S.Dev: ' , data['departure_delay'].std())\n",
        "print('Median: ' , data['departure_delay'].median())\n"
      ]
    },
    {
      "cell_type": "code",
      "execution_count": null,
      "metadata": {
        "colab": {
          "base_uri": "https://localhost:8080/",
          "height": 295
        },
        "id": "LBhpkU42DBLF",
        "outputId": "4d1d36da-c066-4bce-9e55-75b6423a4621"
      },
      "outputs": [
        {
          "output_type": "display_data",
          "data": {
            "text/plain": [
              "<Figure size 432x288 with 1 Axes>"
            ],
            "image/png": "[encoded data removed]"
          },
          "metadata": {
            "needs_background": "light"
          }
        }
      ],
      "source": [
        "plt.hist(data['departure_delay'],bins= 100, color='g')\n",
        "plt.xlabel('Departure Delay (mins)')\n",
        "plt.xlim(data['departure_delay'].min(),250)\n",
        "plt.ylabel('Frequency')\n",
        "plt.title('Departure Delay Distribution')\n",
        "\n",
        "plt.axvline(data['departure_delay'].mean(), color='k', linestyle='dashed')\n",
        "plt.axvline(data['departure_delay'].median(), color='r', linestyle='dashed')\n",
        "plt.axvline((data['departure_delay'].mean() + data['departure_delay'].std()), color='y', linestyle='dashed')\n",
        "plt.axvline((data['departure_delay'].mean() - data['departure_delay'].std()), color='y', linestyle='dashed')\n",
        "plt.axvline((data['departure_delay'].mean() + data['departure_delay'].std()*2), color='y', linestyle='dashed')\n",
        "plt.axvline((data['departure_delay'].mean() - data['departure_delay'].std()*2), color='y', linestyle='dashed')\n",
        "plt.show()"
      ]
    },
    {
      "cell_type": "code",
      "execution_count": null,
      "metadata": {
        "colab": {
          "base_uri": "https://localhost:8080/"
        },
        "id": "_La2mcbXAmol",
        "outputId": "5af58836-7599-4089-f196-e7190e259639"
      },
      "outputs": [
        {
          "output_type": "stream",
          "name": "stdout",
          "text": [
            "Arrival Delay\n",
            "Min:  -108\n",
            "Max:  1311\n",
            "Mean:  6.547118796307415\n",
            "S.Dev:  37.68288271730113\n",
            "Median:  -3.0\n"
          ]
        }
      ],
      "source": [
        "print('Arrival Delay')\n",
        "print('Min: ' , data['arrival_delay'].min())\n",
        "print('Max: ' , data['arrival_delay'].max())\n",
        "print('Mean: ' , data['arrival_delay'].mean())\n",
        "print('S.Dev: ' , data['arrival_delay'].std())\n",
        "print('Median: ' , data['arrival_delay'].median())"
      ]
    },
    {
      "cell_type": "code",
      "execution_count": null,
      "metadata": {
        "colab": {
          "base_uri": "https://localhost:8080/",
          "height": 295
        },
        "id": "CslNllr8Hc4_",
        "outputId": "dfc28cb5-d638-4ce3-b721-3d9eadf9c275"
      },
      "outputs": [
        {
          "output_type": "display_data",
          "data": {
            "text/plain": [
              "<Figure size 432x288 with 1 Axes>"
            ],
            "image/png": "[encoded data removed]"
          },
          "metadata": {
            "needs_background": "light"
          }
        }
      ],
      "source": [
        "plt.hist(data['arrival_delay'],bins= 100, color='g')\n",
        "plt.xlabel('Arrival Delay (mins)')\n",
        "plt.xlim(data['arrival_delay'].min(),250)\n",
        "plt.ylabel('Frequency')\n",
        "plt.title('Arrival Delay Distribution')\n",
        "\n",
        "plt.axvline(data['arrival_delay'].mean(), color='k', linestyle='dashed')\n",
        "plt.axvline(data['arrival_delay'].median(), color='r', linestyle='dashed')\n",
        "plt.axvline((data['arrival_delay'].mean() + data['arrival_delay'].std()), color='y', linestyle='dashed')\n",
        "plt.axvline((data['arrival_delay'].mean() - data['arrival_delay'].std()), color='y', linestyle='dashed')\n",
        "plt.axvline((data['arrival_delay'].mean() + data['arrival_delay'].std()*2), color='y', linestyle='dashed')\n",
        "plt.axvline((data['arrival_delay'].mean() - data['arrival_delay'].std()*2), color='y', linestyle='dashed')\n",
        "\n",
        "plt.show()"
      ]
    },
    {
      "cell_type": "code",
      "execution_count": null,
      "metadata": {
        "id": "2S-ILbf5Amr_"
      },
      "outputs": [],
      "source": []
    },
    {
      "cell_type": "markdown",
      "metadata": {
        "id": "0ICIOiDJNi18"
      },
      "source": [
        "**Variable Correlation Matrix**"
      ]
    },
    {
      "cell_type": "code",
      "execution_count": null,
      "metadata": {
        "colab": {
          "base_uri": "https://localhost:8080/",
          "height": 250
        },
        "id": "ApvNKNZ_NnYh",
        "outputId": "979e295f-87f4-4b4b-fb76-f4c005f66213"
      },
      "outputs": [
        {
          "output_type": "execute_result",
          "data": {
            "text/plain": [
              "   departure_lat  departure_lon  arrival_lat  arrival_lon  departure_schedule  \\\n",
              "0          41.98          -87.9        61.17      -149.99                1920   \n",
              "1          41.98          -87.9        61.17      -149.99                1810   \n",
              "2          41.98          -87.9        61.17      -149.99                1815   \n",
              "3          41.98          -87.9        61.17      -149.99                1815   \n",
              "4          41.98          -87.9        61.17      -149.99                 930   \n",
              "\n",
              "   departure_actual  departure_delay  arrival_schedule  arrival_actual  \\\n",
              "0              1925                5              2313            2337   \n",
              "1              1818                8              2147            2155   \n",
              "2              1812               -3              2210            2200   \n",
              "3              1801              -14              2210            2202   \n",
              "4               936                6              1318            1317   \n",
              "\n",
              "   arrival_delay  \n",
              "0             24  \n",
              "1              8  \n",
              "2            -10  \n",
              "3             -8  \n",
              "4             -1  "
            ],
            "text/html": [
              "\n",
              "  <div id=\"df-56bee140-2c6e-43f5-a83a-9202e254f440\">\n",
              "    <div class=\"colab-df-container\">\n",
              "      <div>\n",
              "<style scoped>\n",
              "    .dataframe tbody tr th:only-of-type {\n",
              "        vertical-align: middle;\n",
              "    }\n",
              "\n",
              "    .dataframe tbody tr th {\n",
              "        vertical-align: top;\n",
              "    }\n",
              "\n",
              "    .dataframe thead th {\n",
              "        text-align: right;\n",
              "    }\n",
              "</style>\n",
              "<table border=\"1\" class=\"dataframe\">\n",
              "  <thead>\n",
              "    <tr style=\"text-align: right;\">\n",
              "      <th></th>\n",
              "      <th>departure_lat</th>\n",
              "      <th>departure_lon</th>\n",
              "      <th>arrival_lat</th>\n",
              "      <th>arrival_lon</th>\n",
              "      <th>departure_schedule</th>\n",
              "      <th>departure_actual</th>\n",
              "      <th>departure_delay</th>\n",
              "      <th>arrival_schedule</th>\n",
              "      <th>arrival_actual</th>\n",
              "      <th>arrival_delay</th>\n",
              "    </tr>\n",
              "  </thead>\n",
              "  <tbody>\n",
              "    <tr>\n",
              "      <th>0</th>\n",
              "      <td>41.98</td>\n",
              "      <td>-87.9</td>\n",
              "      <td>61.17</td>\n",
              "      <td>-149.99</td>\n",
              "      <td>1920</td>\n",
              "      <td>1925</td>\n",
              "      <td>5</td>\n",
              "      <td>2313</td>\n",
              "      <td>2337</td>\n",
              "      <td>24</td>\n",
              "    </tr>\n",
              "    <tr>\n",
              "      <th>1</th>\n",
              "      <td>41.98</td>\n",
              "      <td>-87.9</td>\n",
              "      <td>61.17</td>\n",
              "      <td>-149.99</td>\n",
              "      <td>1810</td>\n",
              "      <td>1818</td>\n",
              "      <td>8</td>\n",
              "      <td>2147</td>\n",
              "      <td>2155</td>\n",
              "      <td>8</td>\n",
              "    </tr>\n",
              "    <tr>\n",
              "      <th>2</th>\n",
              "      <td>41.98</td>\n",
              "      <td>-87.9</td>\n",
              "      <td>61.17</td>\n",
              "      <td>-149.99</td>\n",
              "      <td>1815</td>\n",
              "      <td>1812</td>\n",
              "      <td>-3</td>\n",
              "      <td>2210</td>\n",
              "      <td>2200</td>\n",
              "      <td>-10</td>\n",
              "    </tr>\n",
              "    <tr>\n",
              "      <th>3</th>\n",
              "      <td>41.98</td>\n",
              "      <td>-87.9</td>\n",
              "      <td>61.17</td>\n",
              "      <td>-149.99</td>\n",
              "      <td>1815</td>\n",
              "      <td>1801</td>\n",
              "      <td>-14</td>\n",
              "      <td>2210</td>\n",
              "      <td>2202</td>\n",
              "      <td>-8</td>\n",
              "    </tr>\n",
              "    <tr>\n",
              "      <th>4</th>\n",
              "      <td>41.98</td>\n",
              "      <td>-87.9</td>\n",
              "      <td>61.17</td>\n",
              "      <td>-149.99</td>\n",
              "      <td>930</td>\n",
              "      <td>936</td>\n",
              "      <td>6</td>\n",
              "      <td>1318</td>\n",
              "      <td>1317</td>\n",
              "      <td>-1</td>\n",
              "    </tr>\n",
              "  </tbody>\n",
              "</table>\n",
              "</div>\n",
              "      <button class=\"colab-df-convert\" onclick=\"convertToInteractive('df-56bee140-2c6e-43f5-a83a-9202e254f440')\"\n",
              "              title=\"Convert this dataframe to an interactive table.\"\n",
              "              style=\"display:none;\">\n",
              "        \n",
              "  <svg xmlns=\"http://www.w3.org/2000/svg\" height=\"24px\"viewBox=\"0 0 24 24\"\n",
              "       width=\"24px\">\n",
              "    <path d=\"M0 0h24v24H0V0z\" fill=\"none\"/>\n",
              "    <path d=\"M18.56 5.44l.94 2.06.94-2.06 2.06-.94-2.06-.94-.94-2.06-.94 2.06-2.06.94zm-11 1L8.5 8.5l.94-2.06 2.06-.94-2.06-.94L8.5 2.5l-.94 2.06-2.06.94zm10 10l.94 2.06.94-2.06 2.06-.94-2.06-.94-.94-2.06-.94 2.06-2.06.94z\"/><path d=\"M17.41 7.96l-1.37-1.37c-.4-.4-.92-.59-1.43-.59-.52 0-1.04.2-1.43.59L10.3 9.45l-7.72 7.72c-.78.78-.78 2.05 0 2.83L4 21.41c.39.39.9.59 1.41.59.51 0 1.02-.2 1.41-.59l7.78-7.78 2.81-2.81c.8-.78.8-2.07 0-2.86zM5.41 20L4 18.59l7.72-7.72 1.47 1.35L5.41 20z\"/>\n",
              "  </svg>\n",
              "      </button>\n",
              "      \n",
              "  <style>\n",
              "    .colab-df-container {\n",
              "      display:flex;\n",
              "      flex-wrap:wrap;\n",
              "      gap: 12px;\n",
              "    }\n",
              "\n",
              "    .colab-df-convert {\n",
              "      background-color: #E8F0FE;\n",
              "      border: none;\n",
              "      border-radius: 50%;\n",
              "      cursor: pointer;\n",
              "      display: none;\n",
              "      fill: #1967D2;\n",
              "      height: 32px;\n",
              "      padding: 0 0 0 0;\n",
              "      width: 32px;\n",
              "    }\n",
              "\n",
              "    .colab-df-convert:hover {\n",
              "      background-color: #E2EBFA;\n",
              "      box-shadow: 0px 1px 2px rgba(60, 64, 67, 0.3), 0px 1px 3px 1px rgba(60, 64, 67, 0.15);\n",
              "      fill: #174EA6;\n",
              "    }\n",
              "\n",
              "    [theme=dark] .colab-df-convert {\n",
              "      background-color: #3B4455;\n",
              "      fill: #D2E3FC;\n",
              "    }\n",
              "\n",
              "    [theme=dark] .colab-df-convert:hover {\n",
              "      background-color: #434B5C;\n",
              "      box-shadow: 0px 1px 3px 1px rgba(0, 0, 0, 0.15);\n",
              "      filter: drop-shadow(0px 1px 2px rgba(0, 0, 0, 0.3));\n",
              "      fill: #FFFFFF;\n",
              "    }\n",
              "  </style>\n",
              "\n",
              "      <script>\n",
              "        const buttonEl =\n",
              "          document.querySelector('#df-56bee140-2c6e-43f5-a83a-9202e254f440 button.colab-df-convert');\n",
              "        buttonEl.style.display =\n",
              "          google.colab.kernel.accessAllowed ? 'block' : 'none';\n",
              "\n",
              "        async function convertToInteractive(key) {\n",
              "          const element = document.querySelector('#df-56bee140-2c6e-43f5-a83a-9202e254f440');\n",
              "          const dataTable =\n",
              "            await google.colab.kernel.invokeFunction('convertToInteractive',\n",
              "                                                     [key], {});\n",
              "          if (!dataTable) return;\n",
              "\n",
              "          const docLinkHtml = 'Like what you see? Visit the ' +\n",
              "            '<a target=\"_blank\" href=https://colab.research.google.com/notebooks/data_table.ipynb>data table notebook</a>'\n",
              "            + ' to learn more about interactive tables.';\n",
              "          element.innerHTML = '';\n",
              "          dataTable['output_type'] = 'display_data';\n",
              "          await google.colab.output.renderOutput(dataTable, element);\n",
              "          const docLink = document.createElement('div');\n",
              "          docLink.innerHTML = docLinkHtml;\n",
              "          element.appendChild(docLink);\n",
              "        }\n",
              "      </script>\n",
              "    </div>\n",
              "  </div>\n",
              "  "
            ]
          },
          "metadata": {},
          "execution_count": 19
        }
      ],
      "source": [
        "feature_cols = ['departure_lat',\t'departure_lon',\t'arrival_lat',\t'arrival_lon',\t'departure_schedule',\t'departure_actual',\t'departure_delay',\t'arrival_schedule',\t'arrival_actual',\t'arrival_delay'\t]\n",
        "data_2 = data.filter(feature_cols, axis=1)\n",
        "data_2.head()"
      ]
    },
    {
      "cell_type": "code",
      "execution_count": null,
      "metadata": {
        "colab": {
          "base_uri": "https://localhost:8080/",
          "height": 427
        },
        "id": "qoUJMFJDT4wn",
        "outputId": "975e6268-3d54-4cd0-8bdf-f729c75a33de"
      },
      "outputs": [
        {
          "output_type": "execute_result",
          "data": {
            "text/plain": [
              "                    departure_lat  departure_lon  arrival_lat  arrival_lon  \\\n",
              "departure_lat               1.000         -0.072        0.221       -0.123   \n",
              "departure_lon              -0.072          1.000       -0.158       -0.000   \n",
              "arrival_lat                 0.221         -0.158        1.000       -0.015   \n",
              "arrival_lon                -0.123         -0.000       -0.015        1.000   \n",
              "departure_schedule         -0.080          0.026        0.024        0.009   \n",
              "departure_actual           -0.073          0.020        0.029        0.005   \n",
              "departure_delay             0.004          0.009        0.009        0.011   \n",
              "arrival_schedule            0.001          0.014        0.029       -0.018   \n",
              "arrival_actual              0.003         -0.004        0.024       -0.021   \n",
              "arrival_delay              -0.032         -0.036        0.007        0.048   \n",
              "\n",
              "                    departure_schedule  departure_actual  departure_delay  \\\n",
              "departure_lat                   -0.080            -0.073            0.004   \n",
              "departure_lon                    0.026             0.020            0.009   \n",
              "arrival_lat                      0.024             0.029            0.009   \n",
              "arrival_lon                      0.009             0.005            0.011   \n",
              "departure_schedule               1.000             0.961            0.145   \n",
              "departure_actual                 0.961             1.000            0.180   \n",
              "departure_delay                  0.145             0.180            1.000   \n",
              "arrival_schedule                 0.837             0.822            0.131   \n",
              "arrival_actual                   0.682             0.701           -0.015   \n",
              "arrival_delay                    0.118             0.154            0.914   \n",
              "\n",
              "                    arrival_schedule  arrival_actual  arrival_delay  \n",
              "departure_lat                  0.001           0.003         -0.032  \n",
              "departure_lon                  0.014          -0.004         -0.036  \n",
              "arrival_lat                    0.029           0.024          0.007  \n",
              "arrival_lon                   -0.018          -0.021          0.048  \n",
              "departure_schedule             0.837           0.682          0.118  \n",
              "departure_actual               0.822           0.701          0.154  \n",
              "departure_delay                0.131          -0.015          0.914  \n",
              "arrival_schedule               1.000           0.769          0.103  \n",
              "arrival_actual                 0.769           1.000         -0.026  \n",
              "arrival_delay                  0.103          -0.026          1.000  "
            ],
            "text/html": [
              "\n",
              "  <div id=\"df-b9dc1be4-b108-4d06-ade1-f9b83df076bc\">\n",
              "    <div class=\"colab-df-container\">\n",
              "      <div>\n",
              "<style scoped>\n",
              "    .dataframe tbody tr th:only-of-type {\n",
              "        vertical-align: middle;\n",
              "    }\n",
              "\n",
              "    .dataframe tbody tr th {\n",
              "        vertical-align: top;\n",
              "    }\n",
              "\n",
              "    .dataframe thead th {\n",
              "        text-align: right;\n",
              "    }\n",
              "</style>\n",
              "<table border=\"1\" class=\"dataframe\">\n",
              "  <thead>\n",
              "    <tr style=\"text-align: right;\">\n",
              "      <th></th>\n",
              "      <th>departure_lat</th>\n",
              "      <th>departure_lon</th>\n",
              "      <th>arrival_lat</th>\n",
              "      <th>arrival_lon</th>\n",
              "      <th>departure_schedule</th>\n",
              "      <th>departure_actual</th>\n",
              "      <th>departure_delay</th>\n",
              "      <th>arrival_schedule</th>\n",
              "      <th>arrival_actual</th>\n",
              "      <th>arrival_delay</th>\n",
              "    </tr>\n",
              "  </thead>\n",
              "  <tbody>\n",
              "    <tr>\n",
              "      <th>departure_lat</th>\n",
              "      <td>1.000</td>\n",
              "      <td>-0.072</td>\n",
              "      <td>0.221</td>\n",
              "      <td>-0.123</td>\n",
              "      <td>-0.080</td>\n",
              "      <td>-0.073</td>\n",
              "      <td>0.004</td>\n",
              "      <td>0.001</td>\n",
              "      <td>0.003</td>\n",
              "      <td>-0.032</td>\n",
              "    </tr>\n",
              "    <tr>\n",
              "      <th>departure_lon</th>\n",
              "      <td>-0.072</td>\n",
              "      <td>1.000</td>\n",
              "      <td>-0.158</td>\n",
              "      <td>-0.000</td>\n",
              "      <td>0.026</td>\n",
              "      <td>0.020</td>\n",
              "      <td>0.009</td>\n",
              "      <td>0.014</td>\n",
              "      <td>-0.004</td>\n",
              "      <td>-0.036</td>\n",
              "    </tr>\n",
              "    <tr>\n",
              "      <th>arrival_lat</th>\n",
              "      <td>0.221</td>\n",
              "      <td>-0.158</td>\n",
              "      <td>1.000</td>\n",
              "      <td>-0.015</td>\n",
              "      <td>0.024</td>\n",
              "      <td>0.029</td>\n",
              "      <td>0.009</td>\n",
              "      <td>0.029</td>\n",
              "      <td>0.024</td>\n",
              "      <td>0.007</td>\n",
              "    </tr>\n",
              "    <tr>\n",
              "      <th>arrival_lon</th>\n",
              "      <td>-0.123</td>\n",
              "      <td>-0.000</td>\n",
              "      <td>-0.015</td>\n",
              "      <td>1.000</td>\n",
              "      <td>0.009</td>\n",
              "      <td>0.005</td>\n",
              "      <td>0.011</td>\n",
              "      <td>-0.018</td>\n",
              "      <td>-0.021</td>\n",
              "      <td>0.048</td>\n",
              "    </tr>\n",
              "    <tr>\n",
              "      <th>departure_schedule</th>\n",
              "      <td>-0.080</td>\n",
              "      <td>0.026</td>\n",
              "      <td>0.024</td>\n",
              "      <td>0.009</td>\n",
              "      <td>1.000</td>\n",
              "      <td>0.961</td>\n",
              "      <td>0.145</td>\n",
              "      <td>0.837</td>\n",
              "      <td>0.682</td>\n",
              "      <td>0.118</td>\n",
              "    </tr>\n",
              "    <tr>\n",
              "      <th>departure_actual</th>\n",
              "      <td>-0.073</td>\n",
              "      <td>0.020</td>\n",
              "      <td>0.029</td>\n",
              "      <td>0.005</td>\n",
              "      <td>0.961</td>\n",
              "      <td>1.000</td>\n",
              "      <td>0.180</td>\n",
              "      <td>0.822</td>\n",
              "      <td>0.701</td>\n",
              "      <td>0.154</td>\n",
              "    </tr>\n",
              "    <tr>\n",
              "      <th>departure_delay</th>\n",
              "      <td>0.004</td>\n",
              "      <td>0.009</td>\n",
              "      <td>0.009</td>\n",
              "      <td>0.011</td>\n",
              "      <td>0.145</td>\n",
              "      <td>0.180</td>\n",
              "      <td>1.000</td>\n",
              "      <td>0.131</td>\n",
              "      <td>-0.015</td>\n",
              "      <td>0.914</td>\n",
              "    </tr>\n",
              "    <tr>\n",
              "      <th>arrival_schedule</th>\n",
              "      <td>0.001</td>\n",
              "      <td>0.014</td>\n",
              "      <td>0.029</td>\n",
              "      <td>-0.018</td>\n",
              "      <td>0.837</td>\n",
              "      <td>0.822</td>\n",
              "      <td>0.131</td>\n",
              "      <td>1.000</td>\n",
              "      <td>0.769</td>\n",
              "      <td>0.103</td>\n",
              "    </tr>\n",
              "    <tr>\n",
              "      <th>arrival_actual</th>\n",
              "      <td>0.003</td>\n",
              "      <td>-0.004</td>\n",
              "      <td>0.024</td>\n",
              "      <td>-0.021</td>\n",
              "      <td>0.682</td>\n",
              "      <td>0.701</td>\n",
              "      <td>-0.015</td>\n",
              "      <td>0.769</td>\n",
              "      <td>1.000</td>\n",
              "      <td>-0.026</td>\n",
              "    </tr>\n",
              "    <tr>\n",
              "      <th>arrival_delay</th>\n",
              "      <td>-0.032</td>\n",
              "      <td>-0.036</td>\n",
              "      <td>0.007</td>\n",
              "      <td>0.048</td>\n",
              "      <td>0.118</td>\n",
              "      <td>0.154</td>\n",
              "      <td>0.914</td>\n",
              "      <td>0.103</td>\n",
              "      <td>-0.026</td>\n",
              "      <td>1.000</td>\n",
              "    </tr>\n",
              "  </tbody>\n",
              "</table>\n",
              "</div>\n",
              "      <button class=\"colab-df-convert\" onclick=\"convertToInteractive('df-b9dc1be4-b108-4d06-ade1-f9b83df076bc')\"\n",
              "              title=\"Convert this dataframe to an interactive table.\"\n",
              "              style=\"display:none;\">\n",
              "        \n",
              "  <svg xmlns=\"http://www.w3.org/2000/svg\" height=\"24px\"viewBox=\"0 0 24 24\"\n",
              "       width=\"24px\">\n",
              "    <path d=\"M0 0h24v24H0V0z\" fill=\"none\"/>\n",
              "    <path d=\"M18.56 5.44l.94 2.06.94-2.06 2.06-.94-2.06-.94-.94-2.06-.94 2.06-2.06.94zm-11 1L8.5 8.5l.94-2.06 2.06-.94-2.06-.94L8.5 2.5l-.94 2.06-2.06.94zm10 10l.94 2.06.94-2.06 2.06-.94-2.06-.94-.94-2.06-.94 2.06-2.06.94z\"/><path d=\"M17.41 7.96l-1.37-1.37c-.4-.4-.92-.59-1.43-.59-.52 0-1.04.2-1.43.59L10.3 9.45l-7.72 7.72c-.78.78-.78 2.05 0 2.83L4 21.41c.39.39.9.59 1.41.59.51 0 1.02-.2 1.41-.59l7.78-7.78 2.81-2.81c.8-.78.8-2.07 0-2.86zM5.41 20L4 18.59l7.72-7.72 1.47 1.35L5.41 20z\"/>\n",
              "  </svg>\n",
              "      </button>\n",
              "      \n",
              "  <style>\n",
              "    .colab-df-container {\n",
              "      display:flex;\n",
              "      flex-wrap:wrap;\n",
              "      gap: 12px;\n",
              "    }\n",
              "\n",
              "    .colab-df-convert {\n",
              "      background-color: #E8F0FE;\n",
              "      border: none;\n",
              "      border-radius: 50%;\n",
              "      cursor: pointer;\n",
              "      display: none;\n",
              "      fill: #1967D2;\n",
              "      height: 32px;\n",
              "      padding: 0 0 0 0;\n",
              "      width: 32px;\n",
              "    }\n",
              "\n",
              "    .colab-df-convert:hover {\n",
              "      background-color: #E2EBFA;\n",
              "      box-shadow: 0px 1px 2px rgba(60, 64, 67, 0.3), 0px 1px 3px 1px rgba(60, 64, 67, 0.15);\n",
              "      fill: #174EA6;\n",
              "    }\n",
              "\n",
              "    [theme=dark] .colab-df-convert {\n",
              "      background-color: #3B4455;\n",
              "      fill: #D2E3FC;\n",
              "    }\n",
              "\n",
              "    [theme=dark] .colab-df-convert:hover {\n",
              "      background-color: #434B5C;\n",
              "      box-shadow: 0px 1px 3px 1px rgba(0, 0, 0, 0.15);\n",
              "      filter: drop-shadow(0px 1px 2px rgba(0, 0, 0, 0.3));\n",
              "      fill: #FFFFFF;\n",
              "    }\n",
              "  </style>\n",
              "\n",
              "      <script>\n",
              "        const buttonEl =\n",
              "          document.querySelector('#df-b9dc1be4-b108-4d06-ade1-f9b83df076bc button.colab-df-convert');\n",
              "        buttonEl.style.display =\n",
              "          google.colab.kernel.accessAllowed ? 'block' : 'none';\n",
              "\n",
              "        async function convertToInteractive(key) {\n",
              "          const element = document.querySelector('#df-b9dc1be4-b108-4d06-ade1-f9b83df076bc');\n",
              "          const dataTable =\n",
              "            await google.colab.kernel.invokeFunction('convertToInteractive',\n",
              "                                                     [key], {});\n",
              "          if (!dataTable) return;\n",
              "\n",
              "          const docLinkHtml = 'Like what you see? Visit the ' +\n",
              "            '<a target=\"_blank\" href=https://colab.research.google.com/notebooks/data_table.ipynb>data table notebook</a>'\n",
              "            + ' to learn more about interactive tables.';\n",
              "          element.innerHTML = '';\n",
              "          dataTable['output_type'] = 'display_data';\n",
              "          await google.colab.output.renderOutput(dataTable, element);\n",
              "          const docLink = document.createElement('div');\n",
              "          docLink.innerHTML = docLinkHtml;\n",
              "          element.appendChild(docLink);\n",
              "        }\n",
              "      </script>\n",
              "    </div>\n",
              "  </div>\n",
              "  "
            ]
          },
          "metadata": {},
          "execution_count": 20
        }
      ],
      "source": [
        "cormat=data_2.corr()\n",
        "round(cormat,3)"
      ]
    },
    {
      "cell_type": "code",
      "execution_count": null,
      "metadata": {
        "colab": {
          "base_uri": "https://localhost:8080/",
          "height": 376
        },
        "id": "PtRMXiIPNoIL",
        "outputId": "c705f3ae-85ae-471f-e5b6-a67b8977cb95"
      },
      "outputs": [
        {
          "output_type": "execute_result",
          "data": {
            "text/plain": [
              "<matplotlib.axes._subplots.AxesSubplot at 0x7f9c78fbb910>"
            ]
          },
          "metadata": {},
          "execution_count": 21
        },
        {
          "output_type": "display_data",
          "data": {
            "text/plain": [
              "<Figure size 432x288 with 2 Axes>"
            ],
            "image/png": "[encoded data removed]"
          },
          "metadata": {
            "needs_background": "light"
          }
        }
      ],
      "source": [
        "sns.heatmap(cormat)"
      ]
    },
    {
      "cell_type": "code",
      "execution_count": null,
      "metadata": {
        "colab": {
          "base_uri": "https://localhost:8080/",
          "height": 282
        },
        "id": "weeyjyY4eOZW",
        "outputId": "264ec69b-a891-43b6-b9b6-305d98e87cd6"
      },
      "outputs": [
        {
          "output_type": "execute_result",
          "data": {
            "text/plain": [
              "<matplotlib.collections.PathCollection at 0x7f9c6eba9fd0>"
            ]
          },
          "metadata": {},
          "execution_count": 22
        },
        {
          "output_type": "display_data",
          "data": {
            "text/plain": [
              "<Figure size 432x288 with 1 Axes>"
            ],
            "image/png": "[encoded data removed]"
          },
          "metadata": {
            "needs_background": "light"
          }
        }
      ],
      "source": [
        "plt.scatter(data_2['departure_delay'],data_2['arrival_delay']) #strong corr"
      ]
    },
    {
      "cell_type": "markdown",
      "metadata": {
        "id": "Wo5S6svXM9jO"
      },
      "source": [
        "**Predictive Models**"
      ]
    },
    {
      "cell_type": "markdown",
      "metadata": {
        "id": "ib1txKeXNFqu"
      },
      "source": [
        "Simple Linear Regression"
      ]
    },
    {
      "cell_type": "code",
      "execution_count": null,
      "metadata": {
        "id": "mUWnyl4xNKOk"
      },
      "outputs": [],
      "source": [
        "X = data_2['departure_delay'] #training feature\n",
        "y = data_2['arrival_delay'] #label\n",
        "X_train,X_test,y_train,y_test = train_test_split(X,y,test_size = 0.4, random_state=23)"
      ]
    },
    {
      "cell_type": "code",
      "execution_count": null,
      "metadata": {
        "colab": {
          "base_uri": "https://localhost:8080/"
        },
        "id": "6sMk8p2ggED7",
        "outputId": "1b2ea71d-613c-4a5f-fe48-b22ac37e4008"
      },
      "outputs": [
        {
          "output_type": "execute_result",
          "data": {
            "text/plain": [
              "(1114211,)"
            ]
          },
          "metadata": {},
          "execution_count": 24
        }
      ],
      "source": [
        "X_train.shape"
      ]
    },
    {
      "cell_type": "code",
      "execution_count": null,
      "metadata": {
        "colab": {
          "base_uri": "https://localhost:8080/"
        },
        "id": "rFlgDSHhgKoN",
        "outputId": "4f8c9870-1faf-4ea3-dd5a-33d0b8b79771"
      },
      "outputs": [
        {
          "output_type": "execute_result",
          "data": {
            "text/plain": [
              "(1114211, 1)"
            ]
          },
          "metadata": {},
          "execution_count": 25
        }
      ],
      "source": [
        "X_train = np.array(X_train).reshape(-1,1)\n",
        "X_train.shape"
      ]
    },
    {
      "cell_type": "code",
      "execution_count": null,
      "metadata": {
        "colab": {
          "base_uri": "https://localhost:8080/"
        },
        "id": "y6PeZTGYgekH",
        "outputId": "7d814338-4fc5-4a05-a7d0-983be88f2ed0"
      },
      "outputs": [
        {
          "output_type": "execute_result",
          "data": {
            "text/plain": [
              "(742808, 1)"
            ]
          },
          "metadata": {},
          "execution_count": 26
        }
      ],
      "source": [
        "X_test = np.array(X_test).reshape(-1,1)\n",
        "X_test.shape"
      ]
    },
    {
      "cell_type": "code",
      "execution_count": null,
      "metadata": {
        "id": "XEFkSNLvhLF4"
      },
      "outputs": [],
      "source": [
        "lin_model = LinearRegression()"
      ]
    },
    {
      "cell_type": "code",
      "execution_count": null,
      "metadata": {
        "colab": {
          "base_uri": "https://localhost:8080/"
        },
        "id": "TeQhwKQyhfC5",
        "outputId": "c1066014-0773-4c88-a704-ffa11ccb2d4e"
      },
      "outputs": [
        {
          "output_type": "execute_result",
          "data": {
            "text/plain": [
              "LinearRegression()"
            ]
          },
          "metadata": {},
          "execution_count": 28
        }
      ],
      "source": [
        "lin_model.fit(X_train, y_train)"
      ]
    },
    {
      "cell_type": "code",
      "execution_count": null,
      "metadata": {
        "id": "WCE22Df-jaON"
      },
      "outputs": [],
      "source": [
        "y_pred_train1 = lin_model.predict(X_train)"
      ]
    },
    {
      "cell_type": "code",
      "execution_count": null,
      "metadata": {
        "colab": {
          "base_uri": "https://localhost:8080/",
          "height": 298
        },
        "id": "5Ys3SCwckz37",
        "outputId": "cc56688f-2db3-403d-c46c-26f9f0daa3b1"
      },
      "outputs": [
        {
          "output_type": "execute_result",
          "data": {
            "text/plain": [
              "Text(0.5, 1.0, 'Training')"
            ]
          },
          "metadata": {},
          "execution_count": 30
        },
        {
          "output_type": "display_data",
          "data": {
            "text/plain": [
              "<Figure size 432x288 with 1 Axes>"
            ],
            "image/png": "[encoded data removed]"
          },
          "metadata": {
            "needs_background": "light"
          }
        }
      ],
      "source": [
        "plt.scatter(X_train,y_train)\n",
        "plt.plot(X_train, y_pred_train1, color = 'red')\n",
        "plt.title('Training')"
      ]
    },
    {
      "cell_type": "code",
      "execution_count": null,
      "metadata": {
        "id": "LfQUcf-Emcw0"
      },
      "outputs": [],
      "source": [
        "y_pred_test1 = lin_model.predict(X_test)"
      ]
    },
    {
      "cell_type": "code",
      "execution_count": null,
      "metadata": {
        "colab": {
          "base_uri": "https://localhost:8080/",
          "height": 298
        },
        "id": "IeNpmSTwlnEO",
        "outputId": "208855c3-ba41-4244-db33-4f4f4983b38c"
      },
      "outputs": [
        {
          "output_type": "execute_result",
          "data": {
            "text/plain": [
              "Text(0.5, 1.0, 'Test')"
            ]
          },
          "metadata": {},
          "execution_count": 32
        },
        {
          "output_type": "display_data",
          "data": {
            "text/plain": [
              "<Figure size 432x288 with 1 Axes>"
            ],
            "image/png": "[encoded data removed]"
          },
          "metadata": {
            "needs_background": "light"
          }
        }
      ],
      "source": [
        "plt.scatter(X_test,y_test)\n",
        "plt.plot(X_test, y_pred_test1, color = 'red')\n",
        "plt.title('Test')"
      ]
    },
    {
      "cell_type": "code",
      "execution_count": null,
      "metadata": {
        "colab": {
          "base_uri": "https://localhost:8080/"
        },
        "id": "jjBCl6m-nC-q",
        "outputId": "552a9b3b-6cb6-4dc3-811c-20b0a4659c3d"
      },
      "outputs": [
        {
          "output_type": "stream",
          "name": "stdout",
          "text": [
            "Mean absolute error = 10.49\n",
            "Mean squared error = 231.56\n",
            "Median absolute error = 7.52\n",
            "Explain variance score = 0.84\n",
            "R2 score = 0.84\n"
          ]
        }
      ],
      "source": [
        "print(\"Mean absolute error =\", round(sm.mean_absolute_error(y_test, y_pred_test1), 2)) \n",
        "print(\"Mean squared error =\", round(sm.mean_squared_error(y_test, y_pred_test1), 2)) \n",
        "print(\"Median absolute error =\", round(sm.median_absolute_error(y_test, y_pred_test1), 2)) \n",
        "print(\"Explain variance score =\", round(sm.explained_variance_score(y_test, y_pred_test1), 2)) \n",
        "print(\"R2 score =\", round(sm.r2_score(y_test, y_pred_test1), 2))"
      ]
    },
    {
      "cell_type": "markdown",
      "metadata": {
        "id": "HBI85J3LNLEG"
      },
      "source": [
        "Multivariate Linear Regression"
      ]
    },
    {
      "cell_type": "code",
      "execution_count": null,
      "metadata": {
        "colab": {
          "base_uri": "https://localhost:8080/",
          "height": 424
        },
        "id": "RulJuoTPNPBf",
        "outputId": "7073ba2e-d715-48b8-c9f3-12bb8b5d6dc2"
      },
      "outputs": [
        {
          "output_type": "execute_result",
          "data": {
            "text/plain": [
              "         departure_schedule  departure_actual  departure_delay\n",
              "0                      1920              1925                5\n",
              "1                      1810              1818                8\n",
              "2                      1815              1812               -3\n",
              "3                      1815              1801              -14\n",
              "4                       930               936                6\n",
              "...                     ...               ...              ...\n",
              "1857014                 830               905               35\n",
              "1857015                2045              2044               -1\n",
              "1857016                1225              1233                8\n",
              "1857017                1010              1018                8\n",
              "1857018                1015              1014               -1\n",
              "\n",
              "[1857019 rows x 3 columns]"
            ],
            "text/html": [
              "\n",
              "  <div id=\"df-bab35421-398c-476a-98f5-f66377254c8f\">\n",
              "    <div class=\"colab-df-container\">\n",
              "      <div>\n",
              "<style scoped>\n",
              "    .dataframe tbody tr th:only-of-type {\n",
              "        vertical-align: middle;\n",
              "    }\n",
              "\n",
              "    .dataframe tbody tr th {\n",
              "        vertical-align: top;\n",
              "    }\n",
              "\n",
              "    .dataframe thead th {\n",
              "        text-align: right;\n",
              "    }\n",
              "</style>\n",
              "<table border=\"1\" class=\"dataframe\">\n",
              "  <thead>\n",
              "    <tr style=\"text-align: right;\">\n",
              "      <th></th>\n",
              "      <th>departure_schedule</th>\n",
              "      <th>departure_actual</th>\n",
              "      <th>departure_delay</th>\n",
              "    </tr>\n",
              "  </thead>\n",
              "  <tbody>\n",
              "    <tr>\n",
              "      <th>0</th>\n",
              "      <td>1920</td>\n",
              "      <td>1925</td>\n",
              "      <td>5</td>\n",
              "    </tr>\n",
              "    <tr>\n",
              "      <th>1</th>\n",
              "      <td>1810</td>\n",
              "      <td>1818</td>\n",
              "      <td>8</td>\n",
              "    </tr>\n",
              "    <tr>\n",
              "      <th>2</th>\n",
              "      <td>1815</td>\n",
              "      <td>1812</td>\n",
              "      <td>-3</td>\n",
              "    </tr>\n",
              "    <tr>\n",
              "      <th>3</th>\n",
              "      <td>1815</td>\n",
              "      <td>1801</td>\n",
              "      <td>-14</td>\n",
              "    </tr>\n",
              "    <tr>\n",
              "      <th>4</th>\n",
              "      <td>930</td>\n",
              "      <td>936</td>\n",
              "      <td>6</td>\n",
              "    </tr>\n",
              "    <tr>\n",
              "      <th>...</th>\n",
              "      <td>...</td>\n",
              "      <td>...</td>\n",
              "      <td>...</td>\n",
              "    </tr>\n",
              "    <tr>\n",
              "      <th>1857014</th>\n",
              "      <td>830</td>\n",
              "      <td>905</td>\n",
              "      <td>35</td>\n",
              "    </tr>\n",
              "    <tr>\n",
              "      <th>1857015</th>\n",
              "      <td>2045</td>\n",
              "      <td>2044</td>\n",
              "      <td>-1</td>\n",
              "    </tr>\n",
              "    <tr>\n",
              "      <th>1857016</th>\n",
              "      <td>1225</td>\n",
              "      <td>1233</td>\n",
              "      <td>8</td>\n",
              "    </tr>\n",
              "    <tr>\n",
              "      <th>1857017</th>\n",
              "      <td>1010</td>\n",
              "      <td>1018</td>\n",
              "      <td>8</td>\n",
              "    </tr>\n",
              "    <tr>\n",
              "      <th>1857018</th>\n",
              "      <td>1015</td>\n",
              "      <td>1014</td>\n",
              "      <td>-1</td>\n",
              "    </tr>\n",
              "  </tbody>\n",
              "</table>\n",
              "<p>1857019 rows × 3 columns</p>\n",
              "</div>\n",
              "      <button class=\"colab-df-convert\" onclick=\"convertToInteractive('df-bab35421-398c-476a-98f5-f66377254c8f')\"\n",
              "              title=\"Convert this dataframe to an interactive table.\"\n",
              "              style=\"display:none;\">\n",
              "        \n",
              "  <svg xmlns=\"http://www.w3.org/2000/svg\" height=\"24px\"viewBox=\"0 0 24 24\"\n",
              "       width=\"24px\">\n",
              "    <path d=\"M0 0h24v24H0V0z\" fill=\"none\"/>\n",
              "    <path d=\"M18.56 5.44l.94 2.06.94-2.06 2.06-.94-2.06-.94-.94-2.06-.94 2.06-2.06.94zm-11 1L8.5 8.5l.94-2.06 2.06-.94-2.06-.94L8.5 2.5l-.94 2.06-2.06.94zm10 10l.94 2.06.94-2.06 2.06-.94-2.06-.94-.94-2.06-.94 2.06-2.06.94z\"/><path d=\"M17.41 7.96l-1.37-1.37c-.4-.4-.92-.59-1.43-.59-.52 0-1.04.2-1.43.59L10.3 9.45l-7.72 7.72c-.78.78-.78 2.05 0 2.83L4 21.41c.39.39.9.59 1.41.59.51 0 1.02-.2 1.41-.59l7.78-7.78 2.81-2.81c.8-.78.8-2.07 0-2.86zM5.41 20L4 18.59l7.72-7.72 1.47 1.35L5.41 20z\"/>\n",
              "  </svg>\n",
              "      </button>\n",
              "      \n",
              "  <style>\n",
              "    .colab-df-container {\n",
              "      display:flex;\n",
              "      flex-wrap:wrap;\n",
              "      gap: 12px;\n",
              "    }\n",
              "\n",
              "    .colab-df-convert {\n",
              "      background-color: #E8F0FE;\n",
              "      border: none;\n",
              "      border-radius: 50%;\n",
              "      cursor: pointer;\n",
              "      display: none;\n",
              "      fill: #1967D2;\n",
              "      height: 32px;\n",
              "      padding: 0 0 0 0;\n",
              "      width: 32px;\n",
              "    }\n",
              "\n",
              "    .colab-df-convert:hover {\n",
              "      background-color: #E2EBFA;\n",
              "      box-shadow: 0px 1px 2px rgba(60, 64, 67, 0.3), 0px 1px 3px 1px rgba(60, 64, 67, 0.15);\n",
              "      fill: #174EA6;\n",
              "    }\n",
              "\n",
              "    [theme=dark] .colab-df-convert {\n",
              "      background-color: #3B4455;\n",
              "      fill: #D2E3FC;\n",
              "    }\n",
              "\n",
              "    [theme=dark] .colab-df-convert:hover {\n",
              "      background-color: #434B5C;\n",
              "      box-shadow: 0px 1px 3px 1px rgba(0, 0, 0, 0.15);\n",
              "      filter: drop-shadow(0px 1px 2px rgba(0, 0, 0, 0.3));\n",
              "      fill: #FFFFFF;\n",
              "    }\n",
              "  </style>\n",
              "\n",
              "      <script>\n",
              "        const buttonEl =\n",
              "          document.querySelector('#df-bab35421-398c-476a-98f5-f66377254c8f button.colab-df-convert');\n",
              "        buttonEl.style.display =\n",
              "          google.colab.kernel.accessAllowed ? 'block' : 'none';\n",
              "\n",
              "        async function convertToInteractive(key) {\n",
              "          const element = document.querySelector('#df-bab35421-398c-476a-98f5-f66377254c8f');\n",
              "          const dataTable =\n",
              "            await google.colab.kernel.invokeFunction('convertToInteractive',\n",
              "                                                     [key], {});\n",
              "          if (!dataTable) return;\n",
              "\n",
              "          const docLinkHtml = 'Like what you see? Visit the ' +\n",
              "            '<a target=\"_blank\" href=https://colab.research.google.com/notebooks/data_table.ipynb>data table notebook</a>'\n",
              "            + ' to learn more about interactive tables.';\n",
              "          element.innerHTML = '';\n",
              "          dataTable['output_type'] = 'display_data';\n",
              "          await google.colab.output.renderOutput(dataTable, element);\n",
              "          const docLink = document.createElement('div');\n",
              "          docLink.innerHTML = docLinkHtml;\n",
              "          element.appendChild(docLink);\n",
              "        }\n",
              "      </script>\n",
              "    </div>\n",
              "  </div>\n",
              "  "
            ]
          },
          "metadata": {},
          "execution_count": 34
        }
      ],
      "source": [
        "X_ml = data_2.drop(columns=['departure_lat',\t'departure_lon',\t'arrival_lat',\t'arrival_lon', 'arrival_schedule',\t'arrival_actual',\t'arrival_delay'])\n",
        "X_ml"
      ]
    },
    {
      "cell_type": "code",
      "execution_count": null,
      "metadata": {
        "colab": {
          "base_uri": "https://localhost:8080/"
        },
        "id": "CJvbVM3GqK90",
        "outputId": "400e334f-65ae-4f3b-eb6f-0d88b671a6be"
      },
      "outputs": [
        {
          "output_type": "execute_result",
          "data": {
            "text/plain": [
              "0          24\n",
              "1           8\n",
              "2         -10\n",
              "3          -8\n",
              "4          -1\n",
              "           ..\n",
              "1857014    49\n",
              "1857015     1\n",
              "1857016    18\n",
              "1857017    24\n",
              "1857018    -7\n",
              "Name: arrival_delay, Length: 1857019, dtype: int64"
            ]
          },
          "metadata": {},
          "execution_count": 35
        }
      ],
      "source": [
        "y_ml= data_2['arrival_delay']\n",
        "y_ml"
      ]
    },
    {
      "cell_type": "code",
      "execution_count": null,
      "metadata": {
        "id": "CHAsW-u8rFE1"
      },
      "outputs": [],
      "source": [
        "Xml_train,Xml_test, yml_train,yml_test = train_test_split(X_ml,y_ml, test_size=0.3, random_state=0)"
      ]
    },
    {
      "cell_type": "code",
      "execution_count": null,
      "metadata": {
        "id": "oaOjL_hPrfST"
      },
      "outputs": [],
      "source": [
        "mv_model = LinearRegression()"
      ]
    },
    {
      "cell_type": "code",
      "execution_count": null,
      "metadata": {
        "colab": {
          "base_uri": "https://localhost:8080/"
        },
        "id": "SQ47k7wirsek",
        "outputId": "bd89452f-69a4-4e30-dbd2-c01da0398056"
      },
      "outputs": [
        {
          "output_type": "execute_result",
          "data": {
            "text/plain": [
              "LinearRegression()"
            ]
          },
          "metadata": {},
          "execution_count": 38
        }
      ],
      "source": [
        "mv_model.fit(Xml_train, yml_train)"
      ]
    },
    {
      "cell_type": "code",
      "execution_count": null,
      "metadata": {
        "colab": {
          "base_uri": "https://localhost:8080/"
        },
        "id": "zF6HnOyfr50T",
        "outputId": "7606df0f-800c-4796-fe04-c8280c83221a"
      },
      "outputs": [
        {
          "output_type": "execute_result",
          "data": {
            "text/plain": [
              "array([-0.00466905,  0.00349333,  1.02321947])"
            ]
          },
          "metadata": {},
          "execution_count": 39
        }
      ],
      "source": [
        "m = mv_model.coef_\n",
        "m # 3 coef for 3 training features"
      ]
    },
    {
      "cell_type": "code",
      "execution_count": null,
      "metadata": {
        "id": "yVR3ThkesRDD"
      },
      "outputs": [],
      "source": [
        "y_pred_train2 =  mv_model.predict(Xml_train)"
      ]
    },
    {
      "cell_type": "code",
      "execution_count": null,
      "metadata": {
        "colab": {
          "base_uri": "https://localhost:8080/",
          "height": 295
        },
        "id": "xGRTui3xsd6e",
        "outputId": "e49c93e1-7120-4eb4-ffd7-b8c16ed69be3"
      },
      "outputs": [
        {
          "output_type": "display_data",
          "data": {
            "text/plain": [
              "<Figure size 432x288 with 1 Axes>"
            ],
            "image/png": "[encoded data removed]"
          },
          "metadata": {
            "needs_background": "light"
          }
        }
      ],
      "source": [
        "plt.scatter(yml_train,y_pred_train2)\n",
        "plt.xlabel('Actual Arrival Delays')\n",
        "plt.ylabel('Predicted Arrival Delays')\n",
        "plt.title('Training Data -- Delays: Actual vs Predicted')\n",
        "plt.show()"
      ]
    },
    {
      "cell_type": "code",
      "execution_count": null,
      "metadata": {
        "id": "hEwI3SfZuaSD"
      },
      "outputs": [],
      "source": [
        "y_pred_test2 = mv_model.predict(Xml_test)"
      ]
    },
    {
      "cell_type": "code",
      "execution_count": null,
      "metadata": {
        "colab": {
          "base_uri": "https://localhost:8080/"
        },
        "id": "ylDiYbsCuabQ",
        "outputId": "8665fcd0-6bf0-4658-f74b-cced02ec024d"
      },
      "outputs": [
        {
          "output_type": "stream",
          "name": "stdout",
          "text": [
            "Mean absolute error = 10.51\n",
            "Mean squared error = 232.61\n",
            "Median absolute error = 7.52\n",
            "Explain variance score = 0.84\n",
            "R2 score = 0.84\n"
          ]
        }
      ],
      "source": [
        "print(\"Mean absolute error =\", round(sm.mean_absolute_error(yml_test, y_pred_test2), 2)) \n",
        "print(\"Mean squared error =\", round(sm.mean_squared_error(yml_test, y_pred_test2), 2)) \n",
        "print(\"Median absolute error =\", round(sm.median_absolute_error(yml_test, y_pred_test2), 2)) \n",
        "print(\"Explain variance score =\", round(sm.explained_variance_score(yml_test, y_pred_test2), 2)) \n",
        "print(\"R2 score =\", round(sm.r2_score(yml_test, y_pred_test2), 2))"
      ]
    },
    {
      "cell_type": "markdown",
      "metadata": {
        "id": "VdyqPMZEwhHA"
      },
      "source": [
        "Results:\n",
        "\n",
        "Multivariate model performed slightly worse that Simple Linear Regression. "
      ]
    },
    {
      "cell_type": "code",
      "source": [
        "ref = sm.explained_variance_score(yml_test, y_pred_test2)"
      ],
      "metadata": {
        "id": "zeI1tOh9Q7TF"
      },
      "execution_count": null,
      "outputs": []
    },
    {
      "cell_type": "code",
      "source": [
        "ref"
      ],
      "metadata": {
        "colab": {
          "base_uri": "https://localhost:8080/"
        },
        "id": "Kyp7gknaQ-oO",
        "outputId": "63dd60db-7798-443a-9fe1-fc76313e34fe"
      },
      "execution_count": null,
      "outputs": [
        {
          "output_type": "execute_result",
          "data": {
            "text/plain": [
              "0.8362135218392617"
            ]
          },
          "metadata": {},
          "execution_count": 45
        }
      ]
    },
    {
      "cell_type": "code",
      "source": [
        "yml_test.shape\n"
      ],
      "metadata": {
        "colab": {
          "base_uri": "https://localhost:8080/"
        },
        "id": "lP-yEhLKRCfB",
        "outputId": "9c69c70a-f24d-47e2-9d39-bf03fca177c7"
      },
      "execution_count": null,
      "outputs": [
        {
          "output_type": "execute_result",
          "data": {
            "text/plain": [
              "(557106,)"
            ]
          },
          "metadata": {},
          "execution_count": 46
        }
      ]
    },
    {
      "cell_type": "code",
      "source": [
        "y_pred_test2.shape"
      ],
      "metadata": {
        "colab": {
          "base_uri": "https://localhost:8080/"
        },
        "id": "_N43OZXGRKHc",
        "outputId": "0974c112-dc9f-48b7-95dc-6792660a0c63"
      },
      "execution_count": null,
      "outputs": [
        {
          "output_type": "execute_result",
          "data": {
            "text/plain": [
              "(557106,)"
            ]
          },
          "metadata": {},
          "execution_count": 47
        }
      ]
    },
    {
      "cell_type": "markdown",
      "metadata": {
        "id": "YJNd9zX4NPjA"
      },
      "source": [
        "Decision Tree "
      ]
    },
    {
      "cell_type": "code",
      "execution_count": null,
      "metadata": {
        "id": "DXwF4Q4HNfu0"
      },
      "outputs": [],
      "source": [
        "X = data_2['departure_delay'] #training feature\n",
        "y = data_2['arrival_delay'] #label\n",
        "X_train,X_test,y_train,y_test = train_test_split(X,y,test_size = 0.4, random_state=23)"
      ]
    },
    {
      "cell_type": "code",
      "execution_count": null,
      "metadata": {
        "id": "NkFEq1cRuO07"
      },
      "outputs": [],
      "source": [
        "model = tree.DecisionTreeRegressor()"
      ]
    },
    {
      "cell_type": "code",
      "execution_count": null,
      "metadata": {
        "colab": {
          "base_uri": "https://localhost:8080/"
        },
        "id": "kI2qgJoovOeo",
        "outputId": "128848f4-6828-4cb1-b105-de386a88292b"
      },
      "outputs": [
        {
          "output_type": "execute_result",
          "data": {
            "text/plain": [
              "(1114211,)"
            ]
          },
          "metadata": {},
          "execution_count": 50
        }
      ],
      "source": [
        "X_train.shape"
      ]
    },
    {
      "cell_type": "code",
      "execution_count": null,
      "metadata": {
        "colab": {
          "base_uri": "https://localhost:8080/"
        },
        "id": "MfcEiI2PvR29",
        "outputId": "11a51fe6-24d7-4fc7-8758-ee4ceb4c1c6b"
      },
      "outputs": [
        {
          "output_type": "stream",
          "name": "stdout",
          "text": [
            "X_train shape:  (1114211, 1)\n",
            "X_test shape:  (742808, 1)\n"
          ]
        }
      ],
      "source": [
        "X_train = np.array(X_train).reshape(-1,1)\n",
        "X_test = np.array(X_test).reshape(-1,1)\n",
        "\n",
        "print('X_train shape: ', X_train.shape)\n",
        "print('X_test shape: ', X_test.shape)"
      ]
    },
    {
      "cell_type": "code",
      "execution_count": null,
      "metadata": {
        "colab": {
          "base_uri": "https://localhost:8080/"
        },
        "id": "1ISk_rnmu9VL",
        "outputId": "77813280-77d7-41f6-cf47-81bbab6dc4a9"
      },
      "outputs": [
        {
          "output_type": "execute_result",
          "data": {
            "text/plain": [
              "DecisionTreeRegressor()"
            ]
          },
          "metadata": {},
          "execution_count": 52
        }
      ],
      "source": [
        "model.fit(X_train, y_train)"
      ]
    },
    {
      "cell_type": "code",
      "execution_count": null,
      "metadata": {
        "id": "em8N32KmwlGy"
      },
      "outputs": [],
      "source": [
        "y_pred_train3 = model.predict(X_train)"
      ]
    },
    {
      "cell_type": "code",
      "execution_count": null,
      "metadata": {
        "colab": {
          "base_uri": "https://localhost:8080/",
          "height": 298
        },
        "id": "sGxLxedQw8aN",
        "outputId": "4bc9d331-0ad6-4752-ce7c-ef928b847254"
      },
      "outputs": [
        {
          "output_type": "execute_result",
          "data": {
            "text/plain": [
              "Text(0.5, 1.0, 'Training')"
            ]
          },
          "metadata": {},
          "execution_count": 54
        },
        {
          "output_type": "display_data",
          "data": {
            "text/plain": [
              "<Figure size 432x288 with 1 Axes>"
            ],
            "image/png": "[encoded data removed]"
          },
          "metadata": {
            "needs_background": "light"
          }
        }
      ],
      "source": [
        "plt.scatter(X_train,y_train)\n",
        "plt.plot(X_train, y_pred_train3, color = 'red')\n",
        "plt.title('Training')"
      ]
    },
    {
      "cell_type": "code",
      "execution_count": null,
      "metadata": {
        "id": "wV5yfohDxOj0"
      },
      "outputs": [],
      "source": [
        "y_pred_test3 = model.predict(X_test)"
      ]
    },
    {
      "cell_type": "code",
      "execution_count": null,
      "metadata": {
        "colab": {
          "base_uri": "https://localhost:8080/",
          "height": 298
        },
        "id": "AGnJtXkfxVIc",
        "outputId": "b7abfde4-2d81-4322-8f4b-a05ec38fdb63"
      },
      "outputs": [
        {
          "output_type": "execute_result",
          "data": {
            "text/plain": [
              "Text(0.5, 1.0, 'Testing')"
            ]
          },
          "metadata": {},
          "execution_count": 56
        },
        {
          "output_type": "display_data",
          "data": {
            "text/plain": [
              "<Figure size 432x288 with 1 Axes>"
            ],
            "image/png": "[encoded data removed]"
          },
          "metadata": {
            "needs_background": "light"
          }
        }
      ],
      "source": [
        "plt.scatter(X_test,y_test)\n",
        "plt.plot(X_test, y_pred_test3, color = 'red')\n",
        "plt.title('Testing')"
      ]
    },
    {
      "cell_type": "code",
      "execution_count": null,
      "metadata": {
        "colab": {
          "base_uri": "https://localhost:8080/"
        },
        "id": "bpAoDCMGxi1R",
        "outputId": "947e2bc2-7fc7-42e1-fe93-a69b05bc0b32"
      },
      "outputs": [
        {
          "output_type": "stream",
          "name": "stdout",
          "text": [
            "Mean absolute error = 10.5\n",
            "Mean squared error = 231.34\n",
            "Median absolute error = 7.58\n",
            "Explain variance score = 0.84\n",
            "R2 score = 0.84\n"
          ]
        }
      ],
      "source": [
        "print(\"Mean absolute error =\", round(sm.mean_absolute_error(y_test, y_pred_test3), 2)) \n",
        "print(\"Mean squared error =\", round(sm.mean_squared_error(y_test, y_pred_test3), 2)) \n",
        "print(\"Median absolute error =\", round(sm.median_absolute_error(y_test, y_pred_test3), 2)) \n",
        "print(\"Explain variance score =\", round(sm.explained_variance_score(y_test, y_pred_test3), 2)) \n",
        "print(\"R2 score =\", round(sm.r2_score(y_test, y_pred_test3), 2))"
      ]
    }
  ],
  "metadata": {
    "colab": {
      "provenance": [],
      "mount_file_id": "1eVlPXWbsA4d9z3UJ2TQoFeZKv3IClw4D",
      "authorship_tag": "ABX9TyMd6WIxAhl3Cuc6na2gtIlD",
      "include_colab_link": true
    },
    "kernelspec": {
      "display_name": "Python 3",
      "name": "python3"
    },
    "language_info": {
      "name": "python"
    }
  },
  "nbformat": 4,
  "nbformat_minor": 0
}